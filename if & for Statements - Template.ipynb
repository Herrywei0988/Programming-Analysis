{
 "cells": [
  {
   "cell_type": "code",
   "execution_count": null,
   "metadata": {},
   "outputs": [],
   "source": [
    "# Enter your name: Yung Han Wei"
   ]
  },
  {
   "cell_type": "code",
   "execution_count": null,
   "metadata": {},
   "outputs": [],
   "source": [
    "# Run cell\n",
    "import os\n",
    "os.getcwd()"
   ]
  },
  {
   "cell_type": "markdown",
   "metadata": {},
   "source": [
    "#### Some Python operators:\n",
    "\n",
    "| Operator                  | Description                          |\n",
    "|---------------------------|--------------------------------------|\n",
    "| `=`                       | Assigns a value to a variable.       |\n",
    "| `==`                      | Checks if two values are equal.     |\n",
    "| `+`                       | Adds two values.                     |\n",
    "| `-`                       | Subtracts one value from another.   |\n",
    "| `*`                       | Multiplies two values.               |\n",
    "| `/`                       | Divides one value by another.        |\n",
    "| `>`                       | Checks if one value is greater than another. |\n",
    "| `<`                       | Checks if one value is less than another.    |\n",
    "| `>=`                      | Checks if one value is greater than or equal to another. |\n",
    "| `<=`                      | Checks if one value is less than or equal to another.    |\n",
    "| `in`                      | Checks if a value is in a sequence.  |\n",
    "| `not in`                  | Checks if a value is not in a sequence. |\n"
   ]
  },
  {
   "cell_type": "markdown",
   "metadata": {},
   "source": [
    "## if Statements "
   ]
  },
  {
   "cell_type": "markdown",
   "metadata": {},
   "source": [
    "**Pseudocode: Test Condition - Is Tesla in the List**\n",
    "\n",
    "1. Define a variable named `emv` and assign it the string \"Tesla\".\n",
    "2. Define a list named `brands` with the following values: [\"Toyota\", \"Tesla\", \"Honda\", \"Ford\", \"Audi\"].\n",
    "3. If the value of `emv` is in the `brands`, then:\n",
    "   - Display \"Tesla is in the list\"\n",
    "4. Otherwise, \n",
    "   - Display \"Tesla is not in the list\"\n"
   ]
  },
  {
   "cell_type": "code",
   "execution_count": 1,
   "metadata": {},
   "outputs": [
    {
     "name": "stdout",
     "output_type": "stream",
     "text": [
      "Tesla is in the list\n"
     ]
    }
   ],
   "source": [
    "# 1. Is Tesla in the List Code:\n",
    "\n",
    "emv = \"Tesla\"\n",
    "brands = [\"Toyota\", \"Tesla\", \"Honda\", \"Ford\", \"Audi\"]\n",
    "\n",
    "if emv in brands:\n",
    "    print(\"Tesla is in the list\")\n",
    "else:\n",
    "    print(\"Tesla is not in the list\")"
   ]
  },
  {
   "cell_type": "code",
   "execution_count": 6,
   "metadata": {},
   "outputs": [
    {
     "name": "stdout",
     "output_type": "stream",
     "text": [
      "Enter a brand: Tesla\n",
      "Tesla is in the list\n"
     ]
    }
   ],
   "source": [
    "emv = input (\"Enter a brand: \")\n",
    "brands = [\"Toyota\", \"Tesla\", \"Honda\", \"Ford\", \"Audi\"]\n",
    "\n",
    "if emv in brands:\n",
    "    print(\"Tesla is in the list\")\n",
    "else:\n",
    "    print(\"Tesla is not in the list\")"
   ]
  },
  {
   "cell_type": "markdown",
   "metadata": {},
   "source": [
    "**Pseudocode: Test Condition - Is Score Greater Than Average**\n",
    "\n",
    "1. Define a variable named `score` and assign it an integer value of 85.\n",
    "2. Define a variable named `average` and assign it an integer value of 80.\n",
    "3. Test the condition:\n",
    "   - Check if the value of `score` is greater than the value of `average` using the comparison operator `>`.\n",
    "   - If it is, then the score is greater than the average.\n",
    "   - If it is not, consider using other comparison operators like `==` (equal to), `<` (less than), `<=` (less than or equal to), etc., as needed.\n"
   ]
  },
  {
   "cell_type": "code",
   "execution_count": 3,
   "metadata": {},
   "outputs": [
    {
     "name": "stdout",
     "output_type": "stream",
     "text": [
      "The score is greater than the average\n"
     ]
    }
   ],
   "source": [
    "# 2. Is Score Greater Than Average Code:\n",
    "\n",
    "score = 85\n",
    "average = 80\n",
    "\n",
    "if score > average:\n",
    "    print(\"The score is greater than the average\")\n",
    "else:\n",
    "    print(\"Consider using other comparison operators like == (equal to), < (less than), <= (less than or equal to), etc., as needed\")"
   ]
  },
  {
   "cell_type": "markdown",
   "metadata": {},
   "source": [
    "**Pseudocode: Determine Score Comparison - Part 1**\n",
    "\n",
    "1. Define a variable named `sample_score` with an integer value of 85.\n",
    "2. Define a variable named `average_score` with an integer value of 80.\n",
    "3. If `sample_score` is greater than `average_score`, then:\n",
    "   - Display \"Above Average: \" concatenated with the value of `sample_score`.\n",
    "4. Otherwise:\n",
    "   - Display \"Average Score: \" concatenated with the value of `average_score`.\n"
   ]
  },
  {
   "cell_type": "code",
   "execution_count": 4,
   "metadata": {},
   "outputs": [
    {
     "name": "stdout",
     "output_type": "stream",
     "text": [
      "Above Average 85\n"
     ]
    }
   ],
   "source": [
    "# 3. Determine Score Comparison - Part 1 Code:\n",
    "\n",
    "sample_score = 85\n",
    "average_score = 80\n",
    "\n",
    "if sample_score > average_score:\n",
    "    print(\"Above Average\", sample_score)\n",
    "else:\n",
    "    print(\"Average Score\", average_score)"
   ]
  },
  {
   "cell_type": "markdown",
   "metadata": {},
   "source": [
    "**Pseudocode: Determine Score Comparison - Part 2**\n",
    "\n",
    "1. Define a variable `sample_score` and set it to an integer value of 75.\n",
    "2. Define a variable `average_score` and set it to 80.\n",
    "3. If `sample_score` is greater than `average_score`, then:\n",
    "   - Display \"Above Average.\"\n",
    "4. Else if `sample_score` equals `average_score`, then:\n",
    "   - Display \"Average.\"\n",
    "5. Otherwise, display \"Below Average.\"\n"
   ]
  },
  {
   "cell_type": "code",
   "execution_count": 21,
   "metadata": {},
   "outputs": [
    {
     "name": "stdout",
     "output_type": "stream",
     "text": [
      "Below Average.\n"
     ]
    }
   ],
   "source": [
    "# 4. Determine Score Comparison - Part 2 Code:\n",
    "\n",
    "sample_score = 75\n",
    "average_score = 80\n",
    "\n",
    "if sample_score > average_score:\n",
    "    print(\"Above Average.\")\n",
    "elif sample_score == average+score:\n",
    "    print(\"Average.\")\n",
    "else:\n",
    "    print(\"Below Average.\")"
   ]
  },
  {
   "cell_type": "markdown",
   "metadata": {},
   "source": [
    "## for statements (or for loops) "
   ]
  },
  {
   "cell_type": "markdown",
   "metadata": {},
   "source": [
    "**Pseudocode: Display Uppercase Grades**\n",
    "\n",
    "- Define the `grades` list as [\"a\", \"b\", \"c\", \"c\", \"c\", \"a\", \"b\", \"b\"]\n",
    "- For each value in `grades`, do the following:\n",
    "  - Display the value in uppercase format\n"
   ]
  },
  {
   "cell_type": "code",
   "execution_count": 7,
   "metadata": {},
   "outputs": [
    {
     "name": "stdout",
     "output_type": "stream",
     "text": [
      "A\n",
      "B\n",
      "C\n",
      "C\n",
      "C\n",
      "A\n",
      "B\n",
      "B\n"
     ]
    }
   ],
   "source": [
    "# 5. Display Uppercase Grades Code:\n",
    "\n",
    "grades = [\"a\", \"b\", \"c\", \"c\", \"c\", \"a\", \"b\", \"b\"]\n",
    "\n",
    "for grade in grades:\n",
    "    print(grade.upper())"
   ]
  },
  {
   "cell_type": "markdown",
   "metadata": {},
   "source": [
    "**Pseudocode: Convert and Store Grades to Uppercase**\n",
    "\n",
    "1. Define a variable named `grades` and assign it the following list: [\"a\", \"b\", \"c\", \"c\", \"c\", \"a\", \"b\", \"b\"]\n",
    "2. Define an empty list variable named `grades_upper`.\n",
    "3. For each `grade` in `grades`, do the following:\n",
    "   - Append the uppercase version of `grade` to `grades_upper`.\n",
    "4. Display the values from `grades_upper`.\n"
   ]
  },
  {
   "cell_type": "code",
   "execution_count": 8,
   "metadata": {},
   "outputs": [
    {
     "name": "stdout",
     "output_type": "stream",
     "text": [
      "['A', 'B', 'C', 'C', 'C', 'A', 'B', 'B']\n"
     ]
    }
   ],
   "source": [
    "# 6. Convert Grade to Uppercase Code:\n",
    "\n",
    "grades = [\"a\", \"b\", \"c\", \"c\", \"c\", \"a\", \"b\", \"b\"]\n",
    "grades_upper = []\n",
    "\n",
    "for grade in grades:\n",
    "    grades_upper.append(grade.upper())\n",
    "print(grades_upper)\n"
   ]
  },
  {
   "cell_type": "markdown",
   "metadata": {},
   "source": [
    "### Combining for and if Statements"
   ]
  },
  {
   "cell_type": "markdown",
   "metadata": {},
   "source": [
    "**Pseudocode: Categorize Grades**\n",
    "\n",
    "- Define a variable named `grades` and assign it the following list: [\"a\", \"b\", \"c\", \"c\", \"c\", \"a\", \"b\", \"b\"]\n",
    "- Define an empty list variable named `a_list`\n",
    "- Define an empty list variable named `b_list`\n",
    "- Define an empty list variable named `na_list`\n",
    "\n",
    "- For each `value` in `grades`:\n",
    "    - If `value` equals \"a\":\n",
    "        - Append `value` to `a_list`\n",
    "    - Else if `value` equals \"b\":\n",
    "        - Append `value` to `b_list`\n",
    "    - Otherwise:\n",
    "        - Append `value` to `na_list`\n",
    "\n",
    "- Display values from `a_list`\n",
    "- Display values from `b_list`\n",
    "- Display values from `na_list`\n"
   ]
  },
  {
   "cell_type": "code",
   "execution_count": 3,
   "metadata": {},
   "outputs": [
    {
     "name": "stdout",
     "output_type": "stream",
     "text": [
      "Value in a_list: ['a', 'a']\n",
      "Value in b_list: ['b', 'b', 'b']\n",
      "Value in na_list: ['c', 'c', 'c']\n"
     ]
    }
   ],
   "source": [
    "# 7. Categorize Grades Code:\n",
    "\n",
    "grades = [\"a\", \"b\", \"c\", \"c\", \"c\", \"a\", \"b\", \"b\"]\n",
    "\n",
    "a_list = []\n",
    "b_list = []\n",
    "na_list = []\n",
    "\n",
    "for value in grades:\n",
    "    if value == \"a\":\n",
    "        a_list.append(value)\n",
    "    elif value == \"b\":\n",
    "        b_list.append(value)\n",
    "    else:\n",
    "        na_list.append(value)\n",
    "        \n",
    "print(\"Value in a_list:\", a_list)\n",
    "print(\"Value in b_list:\", b_list)\n",
    "print(\"Value in na_list:\", na_list)"
   ]
  },
  {
   "cell_type": "markdown",
   "metadata": {},
   "source": [
    "### Input Function"
   ]
  },
  {
   "cell_type": "markdown",
   "metadata": {},
   "source": [
    "**Pseudocode: Age Verification using Input**\n",
    "\n",
    "1. Prompt the user to enter an age using the `input()` function, and store the result in a variable named `age`.\n",
    "2. Convert `age` to an integer using the `int()` function to ensure it's a numerical value.\n",
    "\n",
    "3. Test the condition:\n",
    "   - If `age` is greater than or equal to 18, then:\n",
    "     - Display \"You are an adult.\"\n",
    "   - Otherwise:\n",
    "     - Display \"You are not an adult yet.\"\n",
    "   \n",
    "4. End of the program.\n"
   ]
  },
  {
   "cell_type": "code",
   "execution_count": 1,
   "metadata": {},
   "outputs": [
    {
     "name": "stdout",
     "output_type": "stream",
     "text": [
      "Please enter your age: 18\n",
      "You are an adult.\n"
     ]
    }
   ],
   "source": [
    "# 8. Age Verfication user Input Code:\n",
    "\n",
    "age = input(\"Please enter your age: \")\n",
    "age = int(age)\n",
    "\n",
    "if age >= 18:\n",
    "    print(\"You are an adult.\")\n",
    "else:\n",
    "    print(\"You are not an adult yet. \")"
   ]
  },
  {
   "cell_type": "code",
   "execution_count": null,
   "metadata": {},
   "outputs": [],
   "source": []
  }
 ],
 "metadata": {
  "kernelspec": {
   "display_name": "Python 3 (ipykernel)",
   "language": "python",
   "name": "python3"
  },
  "language_info": {
   "codemirror_mode": {
    "name": "ipython",
    "version": 3
   },
   "file_extension": ".py",
   "mimetype": "text/x-python",
   "name": "python",
   "nbconvert_exporter": "python",
   "pygments_lexer": "ipython3",
   "version": "3.9.13"
  }
 },
 "nbformat": 4,
 "nbformat_minor": 2
}
