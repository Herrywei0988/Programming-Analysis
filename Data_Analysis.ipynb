{
 "cells": [
  {
   "cell_type": "code",
   "execution_count": 6,
   "id": "8ad0ce2b",
   "metadata": {},
   "outputs": [],
   "source": [
    "data = [\n",
    "    \"USA\", 331002651,\n",
    "    \"China\", 1444216107,\n",
    "    \"India\", 1380004385,\n",
    "    \"Indonesia\", 273523615,\n",
    "    \"Pakistan\", 220892340,\n",
    "    \"Brazil\", 212559417,\n",
    "    \"Nigeria\", 206139589,\n",
    "    \"Bangladesh\", 164689383,\n",
    "    \"Russia\", 145934462,\n",
    "    \"Mexico\", 128932753,\n",
    "    \"Japan\", 126476461,\n",
    "    \"Ethiopia\", 114963588,\n",
    "    \"Philippines\", 109581078,\n",
    "    \"Egypt\", 102334404,\n",
    "    \"Vietnam\", 97338579,\n",
    "    \"DR Congo\", 89561403,\n",
    "    \"Turkey\", 84339067,\n",
    "    \"Iran\", 83992949,\n",
    "    \"Germany\", 83783942,\n",
    "    \"Thailand\", 69799978\n",
    "]\n",
    "\n",
    "## Problems to solve using data:\n",
    "\n",
    "\n"
   ]
  },
  {
   "cell_type": "code",
   "execution_count": 7,
   "id": "e46dc578",
   "metadata": {},
   "outputs": [
    {
     "name": "stdout",
     "output_type": "stream",
     "text": [
      "Number of values in data: 40\n"
     ]
    }
   ],
   "source": [
    "# 1 How many values are in data?\n",
    "\n",
    "num_values_in_data = len(data)\n",
    "print(\"Number of values in data:\", num_values_in_data)"
   ]
  },
  {
   "cell_type": "code",
   "execution_count": 9,
   "id": "78107137",
   "metadata": {},
   "outputs": [
    {
     "name": "stdout",
     "output_type": "stream",
     "text": [
      "['USA', 'China', 'India', 'Indonesia', 'Pakistan', 'Brazil', 'Nigeria', 'Bangladesh', 'Russia', 'Mexico', 'Japan', 'Ethiopia', 'Philippines', 'Egypt', 'Vietnam', 'DR Congo', 'Turkey', 'Iran', 'Germany', 'Thailand']\n",
      "[331002651, 1444216107, 1380004385, 273523615, 220892340, 212559417, 206139589, 164689383, 145934462, 128932753, 126476461, 114963588, 109581078, 102334404, 97338579, 89561403, 84339067, 83992949, 83783942, 69799978]\n"
     ]
    }
   ],
   "source": [
    "# 2 Use a for statement to split data in into two list variables--country and population.\n",
    "\n",
    "country = []\n",
    "population = []\n",
    "\n",
    "for x in data:\n",
    "    if isinstance(x, (int, float)):\n",
    "        population.append(x)\n",
    "    else:\n",
    "        country.append(x)\n",
    "print(country)\n",
    "print(population)"
   ]
  },
  {
   "cell_type": "code",
   "execution_count": 12,
   "id": "fdf41b16",
   "metadata": {},
   "outputs": [
    {
     "name": "stdout",
     "output_type": "stream",
     "text": [
      "Number of country in data: 20\n"
     ]
    }
   ],
   "source": [
    "# 3 How many values are in country? \n",
    "\n",
    "num_value_in_country = len(country)\n",
    "print(\"Number of country in data:\", num_value_in_country)"
   ]
  },
  {
   "cell_type": "code",
   "execution_count": 13,
   "id": "0d7c941b",
   "metadata": {},
   "outputs": [
    {
     "name": "stdout",
     "output_type": "stream",
     "text": [
      "Total population: 5470066151\n"
     ]
    }
   ],
   "source": [
    "# 4 Determine the total sum of population.\n",
    "\n",
    "total_population = sum(population)\n",
    "print(\"Total population:\", total_population)"
   ]
  },
  {
   "cell_type": "code",
   "execution_count": 15,
   "id": "2b2573d9",
   "metadata": {},
   "outputs": [
    {
     "name": "stdout",
     "output_type": "stream",
     "text": [
      "Population_average: 273503307.55\n"
     ]
    }
   ],
   "source": [
    "# 5 Determine the population average.\n",
    "\n",
    "population_average = (total_population / num_value_in_country)\n",
    "print(\"Population_average:\", population_average)"
   ]
  },
  {
   "cell_type": "code",
   "execution_count": 16,
   "id": "cb6e4fba",
   "metadata": {},
   "outputs": [
    {
     "name": "stdout",
     "output_type": "stream",
     "text": [
      "Maximum population: 1444216107\n",
      "Minimum population: 69799978\n"
     ]
    }
   ],
   "source": [
    "# 6 Determine the maximum number and minimum number in population.\n",
    "\n",
    "max_population = max(population)\n",
    "min_population = min(population)\n",
    "print(\"Maximum population:\", max_population)\n",
    "print(\"Minimum population:\", min_population)"
   ]
  },
  {
   "cell_type": "code",
   "execution_count": 17,
   "id": "19008725",
   "metadata": {},
   "outputs": [
    {
     "name": "stdout",
     "output_type": "stream",
     "text": [
      "Relative position of maximum population: 1\n"
     ]
    }
   ],
   "source": [
    "# 7 Use the list index method on data to find the relative position of the maximum population number.\n",
    "\n",
    "max_population_index = population.index(max_population)\n",
    "print(\"Relative position of maximum population:\", max_population_index)"
   ]
  }
 ],
 "metadata": {
  "kernelspec": {
   "display_name": "Python 3 (ipykernel)",
   "language": "python",
   "name": "python3"
  },
  "language_info": {
   "codemirror_mode": {
    "name": "ipython",
    "version": 3
   },
   "file_extension": ".py",
   "mimetype": "text/x-python",
   "name": "python",
   "nbconvert_exporter": "python",
   "pygments_lexer": "ipython3",
   "version": "3.9.13"
  }
 },
 "nbformat": 4,
 "nbformat_minor": 5
}
