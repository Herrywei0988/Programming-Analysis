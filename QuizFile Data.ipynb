{
 "cells": [
  {
   "cell_type": "markdown",
   "id": "71c8963a",
   "metadata": {},
   "source": [
    "The python libraries and data needed to for the quiz are provided below. "
   ]
  },
  {
   "cell_type": "code",
   "execution_count": 1,
   "id": "d26f4ba0",
   "metadata": {},
   "outputs": [],
   "source": [
    "# Libraries \n",
    "import pandas as pd\n",
    "import matplotlib.pyplot as plt\n",
    "from textblob import TextBlob\n",
    "from wordcloud import WordCloud\n",
    "from textblob import Word\n",
    "from sklearn.linear_model import LinearRegression\n",
    "from sklearn.model_selection import cross_val_score\n",
    "from sklearn.model_selection import train_test_split"
   ]
  },
  {
   "cell_type": "code",
   "execution_count": 2,
   "id": "7a16cf26",
   "metadata": {
    "scrolled": false
   },
   "outputs": [
    {
     "name": "stdout",
     "output_type": "stream",
     "text": [
      " Presidential Task Force on Anti-Racism & Inclusive Excellence \r\n",
      "“George Mason University will become a national exemplar of anti-racism and inclusive excellence.” \r\n",
      "\r\n",
      "The Presidential Initiative on Anti-Racism and Inclusive Excellence (ARIE) is established to ensure that George Mason University, (Mason), creates an inclusive and equitable campus environment in which every member of our community, without exception, is valued, supported, and experiences a sense of belonging.  The primary purpose of this initiative is to position the university to become a national exemplar of anti-racism and inclusive excellence through its own reconciliation work.  The initiative will place Mason on a long-term trajectory that is transformative and sustainable. \r\n",
      " \r\n",
      "The ARIE initiative will be led and conducted by a task force appointed by the president.  The work of the task force will be broken into six committees, where much of the work will be done.  The task force will be governed by an executive steering committee, also appointed by the president.   \r\n",
      " \r\n",
      "Vision:   George Mason University will become a national exemplar of anti-racism and inclusive excellence. \r\n",
      "Mission \r\n",
      "• Develop and implement effective systems, practices and traditions that eradicate racism and bigotry at Mason. \r\n",
      "\r\n",
      "• Prevent racist practices from regenerating through the establishment. \r\n",
      "\r\n",
      "• Establish Mason as a community, commonwealth, regional, and national resource for the advancement of anti-racism, reconciliation, and healing.  \r\n",
      "Tenets:   \r\n",
      "• Mason will be deliberate in establishing an inclusive environment in which all members of the campus community are welcomed and supported; experience a sense of belonging; and differing perspectives are valued and encouraged. \r\n",
      "\r\n",
      "• Mason is committed to equal opportunity across the board, and will aggressively challenge and respond to bias, discrimination, and harassment. \r\n",
      "\r\n",
      "• Anti-racism and inclusive excellence will be foundational in every program, process, policy, and procedure at Mason. \r\n",
      " \r\n",
      "Executive Steering Committee (ESC) Roles and Responsibilities: The primary responsibility of ESC is to work with President Washington to provide strategic leadership and executive level operational coordination to achieve the goals of this initiative. The ESC will provide governance, guidance and oversight to the anti-racism inclusive excellence task force, including: defining the roles and responsibilities of the task force and committees; establishing reporting guidelines for the committees; establishing and approving task force deliverables; establishing timelines; establishing a process for the prioritization of resources; and approving funding requests. Finally, the ESC will develop and implement a communication strategy to keep campus constituencies engaged.   \r\n",
      " \r\n",
      "Task Force Roles and Responsibilities: The task force is charged with advancing Mason’s mission to become a national exemplar of anti-racism and inclusive excellence through reconciliation work to eradicate all historic vestiges of racism and bigotry at the university. The task force will provide \r\n",
      "oversight and direct the work of the committees. One of its primary responsibilities is to provide a university-wide perspective and assess the imp1``act/opportunities of the committees’ recommendations.  The task force will review Mason’s existing strengths in anti-racism and inclusive excellence and assess opportunities for optimizing those strengths in a strategic, integrated, and campus-wide fashion.  Likewise, the task force will assess all recommendations holistically in order to both reconcile contradictions and align potential synergies.” \r\n",
      "Finally, the task force will develop and promote anti-racism and inclusive excellence strategies and best practices, as well as develop metrics to measure progress.    \r\n",
      " \r\n",
      "The work of the task force will be anchored in the existing work across campus to ensure its greatest collective impact.  The work will actively lean on the scholarly, teaching and learning, and administrative expertise that exists within Mason’s colleges and schools around issues of diversity, inclusion, equity and social justice, conflict resolution and analysis, and the histories and social identities of individuals from marginalized groups.  The task force will be inclusive of Mason’s full diversity of students, faculty, staff, and alumni. It will consist of subject matter experts from across the university, and may draw on the expertise of community and national leaders in the areas of anti-racism and inclusive excellence. The task force will identify immediate, short-term, and long-term solutions to Mason’s bias and racist systems, practices and traditions.  Recommendations will be timed to integrate into the University’s budgeting and strategic planning cycles in order to ensure they systematically undergird operations and culture.   \r\n",
      "  \r\n",
      "I. Scope of work: The task force will have a broad focus with particular interest on the following areas: \r\n",
      " \r\n",
      "• Training and Development \r\n",
      "\r\n",
      "• Campus and Community Engagement \r\n",
      "\r\n",
      "• University Policies and Practices \r\n",
      "\r\n",
      "• Curriculum and Pedagogy \r\n",
      "\r\n",
      "• Student Voice \r\n",
      "\r\n",
      "• Research \r\n",
      "\r\n",
      "II. Committees: Initially, the work of the task force will be divided into the following six committees: training and development, campus and community engagement, university policies and practices, student voices, curriculum, and research. Additional committees/subcommittees may be added as the work of the task force progresses.  For consistency, some members of the task force will chair the committees.  The committees will identify organizational structures, policies, processes, and practices across the university that impede a culture of anti-racism and inclusive excellence. Members will review all aspects of the University and propose recommendations that contribute to institutional transformation.   \r\n",
      " \r\n",
      "A. Training & Development: The Training & Development committee’s charge is to enhance, develop, recommend, and integrate anti-racism and inclusive excellence training. Currently, implicit bias and anti-discrimination training occurs in various units within the university. This committee should work with the Jimmy and Rosalynn Carter School for Peace and Conflict Resolution, as well as University Life, to assist schools and units with tailored training and workshops to meet individualized needs.         \r\n",
      "\r\n",
      "B. Campus & Community Engagement: The Campus & Community Engagement committee is charged with developing, implementing, and supporting programs that promote access, diversity, equity, and inclusion through campus and community partnerships. This committee will establish guidance for engaging the university and broader communities in the ARIE work. Further, it will leverage Mason’s unique position in Northern Virginia and the National Capital Region to recommend and implement strategies that create long-term and sustainable change at Mason and our surrounding communities.  \r\n",
      " \r\n",
      "C. University Policies and Practices: The university policies and practices committee is charged with identifying systemic inequities within Mason’s policies, practices, processes, and procedures to enable needed change.  The committee will develop and implement an action plan for achieving meaningful, long-term structural change and accountability throughout the university community.   \r\n",
      " \r\n",
      "D. Curriculum & Pedagogy:  The curriculum and pedagogy committee is charged with recommending, helping to develop, and/or expanding current curriculum that prepare students to not only understand and address systemic racism and values a multi-cultural world,  But also a curriculum that is in intentionally inclusive of the diverse scholars and voices that contribute to the academy.  \r\n",
      " \r\n",
      "E. Student Voice: Students often experience racism and bigotry in the university setting differently than faculty and staff.  While students will be included on the larger taskforce, the student voice committee will allow for more input from student leaders from across the university on the student experience and campus climate. Student voices will support and enhance the work of the ARIE and share the taskforce work with their constituencies.  Additionally, the student voice committee will participate in a student engagement campaign and provide input into additional faculty/staff training beyond curriculum and pedagogy.  \r\n",
      " \r\n",
      "F. Research:  The research committee will promote an inclusive community that advances the meaningful contributions of diverse perspectives and views to the research, scholarship and creative activities of the campus community. This committee will establish guidelines and work with colleges and schools to promote diversity and inclusion in all areas of research, scholarship and creative activities across campus. Additionally, they are charged with establishing programs, opportunities and formal mentorships to increase historically underrepresented  candidates.  Finally, the committee will look at Mason's engagement in innovation and economic development activities to ensure that inclusive excellence is core to the entrepreneurship and economic development activities.\r\n",
      "\r\n",
      "\r\n",
      "\r\n",
      "\n",
      "Sentiment(polarity=0.19268518518518513, subjectivity=0.49250000000000005)\n"
     ]
    }
   ],
   "source": [
    "\"\"\"\n",
    "Quiz Data - Questions 1-5\n",
    "Text data related to GMU's Presidential Task Force on Anti-Racism & Inclusive Excellence\n",
    "Run this cell to view the corpus and complete the related quiz questions.\n",
    "\"\"\"\n",
    "corpus_url = \"https://raw.githubusercontent.com/babdelfa/dataq/main/president1.txt\"\n",
    "import urllib.request\n",
    "stream = urllib.request.urlopen(corpus_url)\n",
    "text = stream.read().decode('utf-8')\n",
    "print(text)\n",
    "\n",
    "blob = TextBlob(text)\n",
    "sentiment = blob.sentiment\n",
    "print(sentiment)\n",
    "\n"
   ]
  },
  {
   "cell_type": "code",
   "execution_count": null,
   "id": "ef236cd2",
   "metadata": {},
   "outputs": [],
   "source": []
  },
  {
   "cell_type": "code",
   "execution_count": 3,
   "id": "759e816f",
   "metadata": {},
   "outputs": [
    {
     "data": {
      "text/html": [
       "<div>\n",
       "<style scoped>\n",
       "    .dataframe tbody tr th:only-of-type {\n",
       "        vertical-align: middle;\n",
       "    }\n",
       "\n",
       "    .dataframe tbody tr th {\n",
       "        vertical-align: top;\n",
       "    }\n",
       "\n",
       "    .dataframe thead th {\n",
       "        text-align: right;\n",
       "    }\n",
       "</style>\n",
       "<table border=\"1\" class=\"dataframe\">\n",
       "  <thead>\n",
       "    <tr style=\"text-align: right;\">\n",
       "      <th></th>\n",
       "      <th>total_bill</th>\n",
       "      <th>tip</th>\n",
       "      <th>sex</th>\n",
       "      <th>smoker</th>\n",
       "      <th>day</th>\n",
       "      <th>time</th>\n",
       "      <th>size</th>\n",
       "    </tr>\n",
       "  </thead>\n",
       "  <tbody>\n",
       "    <tr>\n",
       "      <th>0</th>\n",
       "      <td>35.26</td>\n",
       "      <td>5.00</td>\n",
       "      <td>Female</td>\n",
       "      <td>No</td>\n",
       "      <td>Sun</td>\n",
       "      <td>Dinner</td>\n",
       "      <td>4</td>\n",
       "    </tr>\n",
       "    <tr>\n",
       "      <th>1</th>\n",
       "      <td>12.48</td>\n",
       "      <td>2.52</td>\n",
       "      <td>Female</td>\n",
       "      <td>No</td>\n",
       "      <td>Thur</td>\n",
       "      <td>Lunch</td>\n",
       "      <td>2</td>\n",
       "    </tr>\n",
       "    <tr>\n",
       "      <th>2</th>\n",
       "      <td>16.32</td>\n",
       "      <td>4.30</td>\n",
       "      <td>Female</td>\n",
       "      <td>Yes</td>\n",
       "      <td>Fri</td>\n",
       "      <td>Dinner</td>\n",
       "      <td>2</td>\n",
       "    </tr>\n",
       "    <tr>\n",
       "      <th>3</th>\n",
       "      <td>7.51</td>\n",
       "      <td>2.00</td>\n",
       "      <td>Male</td>\n",
       "      <td>No</td>\n",
       "      <td>Thur</td>\n",
       "      <td>Lunch</td>\n",
       "      <td>2</td>\n",
       "    </tr>\n",
       "    <tr>\n",
       "      <th>4</th>\n",
       "      <td>20.90</td>\n",
       "      <td>3.50</td>\n",
       "      <td>Female</td>\n",
       "      <td>Yes</td>\n",
       "      <td>Sun</td>\n",
       "      <td>Dinner</td>\n",
       "      <td>3</td>\n",
       "    </tr>\n",
       "  </tbody>\n",
       "</table>\n",
       "</div>"
      ],
      "text/plain": [
       "   total_bill   tip     sex smoker   day    time  size\n",
       "0       35.26  5.00  Female     No   Sun  Dinner     4\n",
       "1       12.48  2.52  Female     No  Thur   Lunch     2\n",
       "2       16.32  4.30  Female    Yes   Fri  Dinner     2\n",
       "3        7.51  2.00    Male     No  Thur   Lunch     2\n",
       "4       20.90  3.50  Female    Yes   Sun  Dinner     3"
      ]
     },
     "execution_count": 3,
     "metadata": {},
     "output_type": "execute_result"
    }
   ],
   "source": [
    "\"\"\"\n",
    "QuizData - Questions 6-10\n",
    "Tips data set \n",
    "Run this cell to view the data and complete the related quiz questions.\n",
    "\"\"\"\n",
    "tips_url = \"https://raw.githubusercontent.com/babdelfa/dataq/main/tips.csv\" \n",
    "tips = pd.read_csv(tips_url)\n",
    "tips.head()"
   ]
  },
  {
   "cell_type": "code",
   "execution_count": 4,
   "id": "2d4bc552",
   "metadata": {},
   "outputs": [
    {
     "data": {
      "text/plain": [
       "0.4181411502828126"
      ]
     },
     "execution_count": 4,
     "metadata": {},
     "output_type": "execute_result"
    }
   ],
   "source": [
    "X = tips[[\"total_bill\"]]\n",
    "Y = tips[[\"tip\"]]\n",
    "\n",
    "modelA = LinearRegression()\n",
    "X_train, X_test, y_train, y_test = train_test_split(X, Y, random_state=433)\n",
    "\n",
    "modelA.fit(X_train.values, y_train.values)\n",
    "modelA.score(X_test.values, y_test.values)"
   ]
  },
  {
   "cell_type": "code",
   "execution_count": 5,
   "id": "c90d8765",
   "metadata": {},
   "outputs": [
    {
     "data": {
      "text/plain": [
       "array([[3.39291503]])"
      ]
     },
     "execution_count": 5,
     "metadata": {},
     "output_type": "execute_result"
    }
   ],
   "source": [
    "(modelA.intercept_ + ( modelA.coef_ * 24.33))"
   ]
  },
  {
   "cell_type": "code",
   "execution_count": 6,
   "id": "d0fe8ca6",
   "metadata": {},
   "outputs": [
    {
     "data": {
      "text/plain": [
       "0.38351609213304216"
      ]
     },
     "execution_count": 6,
     "metadata": {},
     "output_type": "execute_result"
    }
   ],
   "source": [
    "X = tips[[\"size\"]]\n",
    "Y = tips[[\"tip\"]]\n",
    "\n",
    "modelB = LinearRegression()\n",
    "X_train, X_test, y_train, y_test = train_test_split(X, Y, random_state=433)\n",
    "\n",
    "modelB.fit(X_train.values, y_train.values)\n",
    "modelB.score(X_test.values, y_test.values)"
   ]
  },
  {
   "cell_type": "code",
   "execution_count": 7,
   "id": "0b376ff8",
   "metadata": {},
   "outputs": [
    {
     "data": {
      "text/plain": [
       "0.4843599857988736"
      ]
     },
     "execution_count": 7,
     "metadata": {},
     "output_type": "execute_result"
    }
   ],
   "source": [
    "X = tips[[\"total_bill\", \"size\"]]\n",
    "y = tips[[\"tip\"]]\n",
    "\n",
    "modelC = LinearRegression()\n",
    "X_train, X_test, y_train, y_test = train_test_split(X, y, random_state=433)\n",
    "\n",
    "\n",
    "modelC.fit(X_train.values, y_train.values)\n",
    "modelC.score(X_test.values, y_test.values)\n"
   ]
  },
  {
   "cell_type": "code",
   "execution_count": 8,
   "id": "47b08df0",
   "metadata": {},
   "outputs": [
    {
     "name": "stdout",
     "output_type": "stream",
     "text": [
      "[[4.43901393]]\n"
     ]
    }
   ],
   "source": [
    "predicted_tip = modelC.predict([[40.00, 2]])\n",
    "\n",
    "# The predicted_tip variable now contains the predicted tip amount\n",
    "print(predicted_tip)"
   ]
  },
  {
   "cell_type": "code",
   "execution_count": null,
   "id": "9622f741",
   "metadata": {},
   "outputs": [],
   "source": []
  }
 ],
 "metadata": {
  "kernelspec": {
   "display_name": "Python 3 (ipykernel)",
   "language": "python",
   "name": "python3"
  },
  "language_info": {
   "codemirror_mode": {
    "name": "ipython",
    "version": 3
   },
   "file_extension": ".py",
   "mimetype": "text/x-python",
   "name": "python",
   "nbconvert_exporter": "python",
   "pygments_lexer": "ipython3",
   "version": "3.9.13"
  }
 },
 "nbformat": 4,
 "nbformat_minor": 5
}
