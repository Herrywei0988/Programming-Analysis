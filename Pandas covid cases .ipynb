{
 "cells": [
  {
   "cell_type": "code",
   "execution_count": 5,
   "metadata": {},
   "outputs": [],
   "source": [
    "#1 import pandas\n",
    "import pandas as pd"
   ]
  },
  {
   "cell_type": "code",
   "execution_count": 6,
   "metadata": {
    "scrolled": true
   },
   "outputs": [
    {
     "data": {
      "text/plain": [
       "'/Users/yangyungchyi/Downloads'"
      ]
     },
     "execution_count": 6,
     "metadata": {},
     "output_type": "execute_result"
    }
   ],
   "source": [
    "#2 see default location in jupyter notebook\n",
    "import os\n",
    "os.getcwd()"
   ]
  },
  {
   "cell_type": "code",
   "execution_count": 7,
   "metadata": {
    "scrolled": false
   },
   "outputs": [],
   "source": [
    "#3 load the csv file\n",
    "df = pd.read_csv(\"https://raw.githubusercontent.com/babdelfa/class/main/COVID-19.csv\")"
   ]
  },
  {
   "cell_type": "code",
   "execution_count": 8,
   "metadata": {},
   "outputs": [
    {
     "name": "stdout",
     "output_type": "stream",
     "text": [
      "         date  cases  deaths      country\n",
      "0  12/31/2019      0       0  Afghanistan\n",
      "1    1/1/2020      0       0  Afghanistan\n",
      "2    1/2/2020      0       0  Afghanistan\n",
      "3    1/3/2020      0       0  Afghanistan\n",
      "4    1/4/2020      0       0  Afghanistan\n",
      "          date  cases  deaths   country\n",
      "9508  4/4/2020      1       0  Zimbabwe\n",
      "9509  4/5/2020      0       0  Zimbabwe\n",
      "9510  4/6/2020      0       0  Zimbabwe\n",
      "9511  4/7/2020      0       0  Zimbabwe\n",
      "9512  4/8/2020      1       0  Zimbabwe\n"
     ]
    }
   ],
   "source": [
    "#4 view a sample of rows using the head/tail methods\n",
    "print(df.head())\n",
    "print(df.tail())"
   ]
  },
  {
   "cell_type": "code",
   "execution_count": 26,
   "metadata": {},
   "outputs": [
    {
     "data": {
      "text/plain": [
       "(9513, 4)"
      ]
     },
     "execution_count": 26,
     "metadata": {},
     "output_type": "execute_result"
    }
   ],
   "source": [
    "#5 use shape attribute to get the number or rows and columns\n",
    "df.shape"
   ]
  },
  {
   "cell_type": "code",
   "execution_count": 24,
   "metadata": {},
   "outputs": [
    {
     "data": {
      "text/plain": [
       "Index(['date', 'cases', 'deaths', 'country'], dtype='object')"
      ]
     },
     "execution_count": 24,
     "metadata": {},
     "output_type": "execute_result"
    }
   ],
   "source": [
    "#6 use columns attribute to get the columns values\n",
    "df.columns"
   ]
  },
  {
   "cell_type": "code",
   "execution_count": 25,
   "metadata": {},
   "outputs": [
    {
     "data": {
      "text/plain": [
       "RangeIndex(start=0, stop=9513, step=1)"
      ]
     },
     "execution_count": 25,
     "metadata": {},
     "output_type": "execute_result"
    }
   ],
   "source": [
    "#7 use index attribute to get the rows index values\n",
    "df.index"
   ]
  },
  {
   "cell_type": "code",
   "execution_count": 22,
   "metadata": {},
   "outputs": [
    {
     "data": {
      "text/plain": [
       "date       object\n",
       "cases       int64\n",
       "deaths      int64\n",
       "country    object\n",
       "dtype: object"
      ]
     },
     "execution_count": 22,
     "metadata": {},
     "output_type": "execute_result"
    }
   ],
   "source": [
    "# use dtypes attribute to get the data type for each column\n",
    "df.dtypes"
   ]
  },
  {
   "cell_type": "code",
   "execution_count": 23,
   "metadata": {},
   "outputs": [
    {
     "data": {
      "text/plain": [
       "pandas.core.frame.DataFrame"
      ]
     },
     "execution_count": 23,
     "metadata": {},
     "output_type": "execute_result"
    }
   ],
   "source": [
    "#8 use the type function on df \n",
    "type(df)"
   ]
  },
  {
   "cell_type": "code",
   "execution_count": 27,
   "metadata": {},
   "outputs": [
    {
     "data": {
      "text/plain": [
       "date       9513\n",
       "cases      9513\n",
       "deaths     9513\n",
       "country    9513\n",
       "dtype: int64"
      ]
     },
     "execution_count": 27,
     "metadata": {},
     "output_type": "execute_result"
    }
   ],
   "source": [
    "#9 use the count method on df\n",
    "df.count()"
   ]
  },
  {
   "cell_type": "code",
   "execution_count": 29,
   "metadata": {
    "scrolled": false
   },
   "outputs": [
    {
     "data": {
      "text/plain": [
       "array(['Afghanistan', 'Albania', 'Algeria', 'Andorra', 'Angola',\n",
       "       'Anguilla', 'Antigua_and_Barbuda', 'Argentina', 'Armenia', 'Aruba',\n",
       "       'Australia', 'Austria', 'Azerbaijan', 'Bahamas', 'Bahrain',\n",
       "       'Bangladesh', 'Barbados', 'Belarus', 'Belgium', 'Belize', 'Benin',\n",
       "       'Bermuda', 'Bhutan', 'Bolivia',\n",
       "       'Bonaire, Saint Eustatius and Saba', 'Bosnia_and_Herzegovina',\n",
       "       'Botswana', 'Brazil', 'British_Virgin_Islands',\n",
       "       'Brunei_Darussalam', 'Bulgaria', 'Burkina_Faso', 'Burundi',\n",
       "       'Cambodia', 'Cameroon', 'Canada', 'Cape_Verde',\n",
       "       'Cases_on_an_international_conveyance_Japan', 'Cayman_Islands',\n",
       "       'Central_African_Republic', 'Chad', 'Chile', 'China', 'Colombia',\n",
       "       'Congo', 'Costa_Rica', 'Cote_dIvoire', 'Croatia', 'Cuba',\n",
       "       'Curaçao', 'Cyprus', 'Czechia', 'Democratic_Republic_of_the_Congo',\n",
       "       'Denmark', 'Djibouti', 'Dominica', 'Dominican_Republic', 'Ecuador',\n",
       "       'Egypt', 'El_Salvador', 'Equatorial_Guinea', 'Eritrea', 'Estonia',\n",
       "       'Eswatini', 'Ethiopia', 'Falkland_Islands_(Malvinas)',\n",
       "       'Faroe_Islands', 'Fiji', 'Finland', 'France', 'French_Polynesia',\n",
       "       'Gabon', 'Gambia', 'Georgia', 'Germany', 'Ghana', 'Gibraltar',\n",
       "       'Greece', 'Greenland', 'Grenada', 'Guam', 'Guatemala', 'Guernsey',\n",
       "       'Guinea', 'Guinea_Bissau', 'Guyana', 'Haiti', 'Holy_See',\n",
       "       'Honduras', 'Hungary', 'Iceland', 'India', 'Indonesia', 'Iran',\n",
       "       'Iraq', 'Ireland', 'Isle_of_Man', 'Israel', 'Italy', 'Jamaica',\n",
       "       'Japan', 'Jersey', 'Jordan', 'Kazakhstan', 'Kenya', 'Kosovo',\n",
       "       'Kuwait', 'Kyrgyzstan', 'Laos', 'Latvia', 'Lebanon', 'Liberia',\n",
       "       'Libya', 'Liechtenstein', 'Lithuania', 'Luxembourg', 'Madagascar',\n",
       "       'Malawi', 'Malaysia', 'Maldives', 'Mali', 'Malta', 'Mauritania',\n",
       "       'Mauritius', 'Mexico', 'Moldova', 'Monaco', 'Mongolia',\n",
       "       'Montenegro', 'Montserrat', 'Morocco', 'Mozambique', 'Myanmar',\n",
       "       'Namibia', 'Nepal', 'Netherlands', 'New_Caledonia', 'New_Zealand',\n",
       "       'Nicaragua', 'Niger', 'Nigeria', 'North_Macedonia',\n",
       "       'Northern_Mariana_Islands', 'Norway', 'Oman', 'Pakistan',\n",
       "       'Palestine', 'Panama', 'Papua_New_Guinea', 'Paraguay', 'Peru',\n",
       "       'Philippines', 'Poland', 'Portugal', 'Puerto_Rico', 'Qatar',\n",
       "       'Romania', 'Russia', 'Rwanda', 'Saint_Kitts_and_Nevis',\n",
       "       'Saint_Lucia', 'Saint_Vincent_and_the_Grenadines', 'San_Marino',\n",
       "       'Saudi_Arabia', 'Senegal', 'Serbia', 'Seychelles', 'Sierra_Leone',\n",
       "       'Singapore', 'Sint_Maarten', 'Slovakia', 'Slovenia', 'Somalia',\n",
       "       'South_Africa', 'South_Korea', 'South_Sudan', 'Spain', 'Sri_Lanka',\n",
       "       'Sudan', 'Suriname', 'Sweden', 'Switzerland', 'Syria', 'Taiwan',\n",
       "       'Thailand', 'Timor_Leste', 'Togo', 'Trinidad_and_Tobago',\n",
       "       'Tunisia', 'Turkey', 'Turks_and_Caicos_islands', 'Uganda',\n",
       "       'Ukraine', 'United_Arab_Emirates', 'United_Kingdom',\n",
       "       'United_Republic_of_Tanzania', 'United_States_of_America',\n",
       "       'United_States_Virgin_Islands', 'Uruguay', 'Uzbekistan',\n",
       "       'Venezuela', 'Vietnam', 'Zambia', 'Zimbabwe'], dtype=object)"
      ]
     },
     "execution_count": 29,
     "metadata": {},
     "output_type": "execute_result"
    }
   ],
   "source": [
    "#10 use the unique method on the country column to get the unique list of values\n",
    "df[\"country\"].unique()"
   ]
  },
  {
   "cell_type": "code",
   "execution_count": 63,
   "metadata": {},
   "outputs": [
    {
     "data": {
      "text/plain": [
       "204"
      ]
     },
     "execution_count": 63,
     "metadata": {},
     "output_type": "execute_result"
    }
   ],
   "source": [
    "#11 use nunique on the country column to get the number of unique values\n",
    "df[\"country\"].nunique()"
   ]
  },
  {
   "cell_type": "code",
   "execution_count": 32,
   "metadata": {},
   "outputs": [
    {
     "data": {
      "text/plain": [
       "Italy                                100\n",
       "Belgium                              100\n",
       "China                                100\n",
       "Canada                               100\n",
       "Czechia                              100\n",
       "                                    ... \n",
       "Sierra_Leone                           8\n",
       "Bonaire, Saint Eustatius and Saba      7\n",
       "Malawi                                 6\n",
       "Falkland_Islands_(Malvinas)            5\n",
       "South_Sudan                            3\n",
       "Name: country, Length: 204, dtype: int64"
      ]
     },
     "execution_count": 32,
     "metadata": {},
     "output_type": "execute_result"
    }
   ],
   "source": [
    "#12 use value counts method on the country column to get a count of each category in a column/series \n",
    "df[\"country\"].value_counts()"
   ]
  },
  {
   "cell_type": "code",
   "execution_count": 50,
   "metadata": {},
   "outputs": [
    {
     "name": "stdout",
     "output_type": "stream",
     "text": [
      "            date  cases  deaths                   country\n",
      "9188  12/31/2019      0       0  United_States_of_America\n",
      "9189    1/1/2020      0       0  United_States_of_America\n",
      "9190    1/2/2020      0       0  United_States_of_America\n",
      "9191    1/3/2020      0       0  United_States_of_America\n",
      "9192    1/4/2020      0       0  United_States_of_America\n",
      "...          ...    ...     ...                       ...\n",
      "9283    4/4/2020  32425    1104  United_States_of_America\n",
      "9284    4/5/2020  34272    1344  United_States_of_America\n",
      "9285    4/6/2020  25398    1146  United_States_of_America\n",
      "9286    4/7/2020  30561    1342  United_States_of_America\n",
      "9287    4/8/2020  30613    1906  United_States_of_America\n",
      "\n",
      "[100 rows x 4 columns]\n"
     ]
    }
   ],
   "source": [
    "#13 subset all the United States data from df and store it to usa\n",
    "\n",
    "usa = df[df[\"country\"] == \"United_States_of_America\"]\n",
    "print(usa)"
   ]
  },
  {
   "cell_type": "code",
   "execution_count": 51,
   "metadata": {},
   "outputs": [
    {
     "name": "stdout",
     "output_type": "stream",
     "text": [
      "            date  cases  deaths country\n",
      "4604  12/31/2019      0       0   Italy\n",
      "4605    1/1/2020      0       0   Italy\n",
      "4606    1/2/2020      0       0   Italy\n",
      "4607    1/3/2020      0       0   Italy\n",
      "4608    1/4/2020      0       0   Italy\n",
      "...          ...    ...     ...     ...\n",
      "4699    4/4/2020   4585     764   Italy\n",
      "4700    4/5/2020   4805     681   Italy\n",
      "4701    4/6/2020   4316     527   Italy\n",
      "4702    4/7/2020   3599     636   Italy\n",
      "4703    4/8/2020   3039     604   Italy\n",
      "\n",
      "[100 rows x 4 columns]\n"
     ]
    }
   ],
   "source": [
    "#14 subset all Italy data from df and store it to italy\n",
    "\n",
    "italy = df[df[\"country\"] == \"Italy\"]\n",
    "print(italy)"
   ]
  },
  {
   "cell_type": "code",
   "execution_count": 52,
   "metadata": {},
   "outputs": [
    {
     "name": "stdout",
     "output_type": "stream",
     "text": [
      "            date  cases  deaths                   country\n",
      "9188  12/31/2019      0       0  United_States_of_America\n",
      "9189    1/1/2020      0       0  United_States_of_America\n",
      "9190    1/2/2020      0       0  United_States_of_America\n",
      "9191    1/3/2020      0       0  United_States_of_America\n",
      "9192    1/4/2020      0       0  United_States_of_America\n",
      "...          ...    ...     ...                       ...\n",
      "4699    4/4/2020   4585     764                     Italy\n",
      "4700    4/5/2020   4805     681                     Italy\n",
      "4701    4/6/2020   4316     527                     Italy\n",
      "4702    4/7/2020   3599     636                     Italy\n",
      "4703    4/8/2020   3039     604                     Italy\n",
      "\n",
      "[200 rows x 4 columns]\n"
     ]
    }
   ],
   "source": [
    "# 15 use the pd.concat function to combined two subsets\n",
    "\n",
    "usa_italy = pd.concat([usa,italy])\n",
    "print(usa_italy)"
   ]
  },
  {
   "cell_type": "code",
   "execution_count": 53,
   "metadata": {},
   "outputs": [
    {
     "data": {
      "text/plain": [
       "date       object\n",
       "cases       int64\n",
       "deaths      int64\n",
       "country    object\n",
       "dtype: object"
      ]
     },
     "execution_count": 53,
     "metadata": {},
     "output_type": "execute_result"
    }
   ],
   "source": [
    "# 16 check the data types for each column in the dataframe using the dtypes attribute (review date data type)\n",
    "usa_italy.dtypes"
   ]
  },
  {
   "cell_type": "code",
   "execution_count": 54,
   "metadata": {},
   "outputs": [
    {
     "name": "stdout",
     "output_type": "stream",
     "text": [
      "           date  cases  deaths                   country\n",
      "9188 2019-12-31      0       0  United_States_of_America\n",
      "9189 2020-01-01      0       0  United_States_of_America\n",
      "9190 2020-01-02      0       0  United_States_of_America\n",
      "9191 2020-01-03      0       0  United_States_of_America\n",
      "9192 2020-01-04      0       0  United_States_of_America\n"
     ]
    }
   ],
   "source": [
    "# 17 change the date column type to a datetime data type using the pd.to_datetime function \n",
    "\n",
    "usa_italy[\"date\"] = pd.to_datetime(usa_italy[\"date\"]) \n",
    "print(usa_italy.head())"
   ]
  },
  {
   "cell_type": "code",
   "execution_count": 55,
   "metadata": {},
   "outputs": [
    {
     "data": {
      "text/plain": [
       "date       datetime64[ns]\n",
       "cases               int64\n",
       "deaths              int64\n",
       "country            object\n",
       "dtype: object"
      ]
     },
     "execution_count": 55,
     "metadata": {},
     "output_type": "execute_result"
    }
   ],
   "source": [
    "# 18 check the data types for each column in the dataframe using the dtypes attribute (review date data type)\n",
    "usa_italy.dtypes"
   ]
  },
  {
   "cell_type": "code",
   "execution_count": 56,
   "metadata": {},
   "outputs": [
    {
     "data": {
      "text/plain": [
       "Int64Index([9188, 9189, 9190, 9191, 9192, 9193, 9194, 9195, 9196, 9197,\n",
       "            ...\n",
       "            4694, 4695, 4696, 4697, 4698, 4699, 4700, 4701, 4702, 4703],\n",
       "           dtype='int64', length=200)"
      ]
     },
     "execution_count": 56,
     "metadata": {},
     "output_type": "execute_result"
    }
   ],
   "source": [
    "# 19 use the index attribute on usa_italy\n",
    "usa_italy.index"
   ]
  },
  {
   "cell_type": "code",
   "execution_count": 57,
   "metadata": {},
   "outputs": [],
   "source": [
    "# 20 set index to date using set_index method and inplace=True\n",
    "#note: only one cell run allowed due to inplace=True (no need to assign to variable)\n",
    "\n",
    "usa_italy.set_index(\"date\", inplace=True)"
   ]
  },
  {
   "cell_type": "code",
   "execution_count": 58,
   "metadata": {},
   "outputs": [
    {
     "data": {
      "text/plain": [
       "DatetimeIndex(['2019-12-31', '2020-01-01', '2020-01-02', '2020-01-03',\n",
       "               '2020-01-04', '2020-01-05', '2020-01-06', '2020-01-07',\n",
       "               '2020-01-08', '2020-01-09',\n",
       "               ...\n",
       "               '2020-03-30', '2020-03-31', '2020-04-01', '2020-04-02',\n",
       "               '2020-04-03', '2020-04-04', '2020-04-05', '2020-04-06',\n",
       "               '2020-04-07', '2020-04-08'],\n",
       "              dtype='datetime64[ns]', name='date', length=200, freq=None)"
      ]
     },
     "execution_count": 58,
     "metadata": {},
     "output_type": "execute_result"
    }
   ],
   "source": [
    "# 21 use the index attribute on usa_italy\n",
    "usa_italy.index"
   ]
  },
  {
   "cell_type": "code",
   "execution_count": 59,
   "metadata": {},
   "outputs": [
    {
     "data": {
      "text/plain": [
       "cases       int64\n",
       "deaths      int64\n",
       "country    object\n",
       "dtype: object"
      ]
     },
     "execution_count": 59,
     "metadata": {},
     "output_type": "execute_result"
    }
   ],
   "source": [
    "# 22 use dtypes on usa_italy after setting index - no date column (now it's the index)\n",
    "usa_italy.dtypes"
   ]
  },
  {
   "cell_type": "code",
   "execution_count": 61,
   "metadata": {},
   "outputs": [
    {
     "data": {
      "text/plain": [
       "country\n",
       "Italy                       Axes(0.125,0.11;0.775x0.77)\n",
       "United_States_of_America    Axes(0.125,0.11;0.775x0.77)\n",
       "Name: cases, dtype: object"
      ]
     },
     "execution_count": 61,
     "metadata": {},
     "output_type": "execute_result"
    },
    {
     "data": {
      "image/png": "[encoded data removed]",
      "text/plain": [
       "<Figure size 640x480 with 1 Axes>"
      ]
     },
     "metadata": {},
     "output_type": "display_data"
    }
   ],
   "source": [
    "# 23 do a groupby() method on country and use the plot() method on cases \n",
    "usa_italy.groupby(\"country\")[\"cases\"].plot()"
   ]
  },
  {
   "cell_type": "code",
   "execution_count": 62,
   "metadata": {},
   "outputs": [
    {
     "data": {
      "text/html": [
       "<div>\n",
       "<style scoped>\n",
       "    .dataframe tbody tr th:only-of-type {\n",
       "        vertical-align: middle;\n",
       "    }\n",
       "\n",
       "    .dataframe tbody tr th {\n",
       "        vertical-align: top;\n",
       "    }\n",
       "\n",
       "    .dataframe thead th {\n",
       "        text-align: right;\n",
       "    }\n",
       "</style>\n",
       "<table border=\"1\" class=\"dataframe\">\n",
       "  <thead>\n",
       "    <tr style=\"text-align: right;\">\n",
       "      <th></th>\n",
       "      <th>count</th>\n",
       "      <th>mean</th>\n",
       "      <th>std</th>\n",
       "      <th>min</th>\n",
       "      <th>25%</th>\n",
       "      <th>50%</th>\n",
       "      <th>75%</th>\n",
       "      <th>max</th>\n",
       "    </tr>\n",
       "    <tr>\n",
       "      <th>country</th>\n",
       "      <th></th>\n",
       "      <th></th>\n",
       "      <th></th>\n",
       "      <th></th>\n",
       "      <th></th>\n",
       "      <th></th>\n",
       "      <th></th>\n",
       "      <th></th>\n",
       "    </tr>\n",
       "  </thead>\n",
       "  <tbody>\n",
       "    <tr>\n",
       "      <th>Italy</th>\n",
       "      <td>100.0</td>\n",
       "      <td>1355.86</td>\n",
       "      <td>2074.637498</td>\n",
       "      <td>0.0</td>\n",
       "      <td>0.0</td>\n",
       "      <td>0.0</td>\n",
       "      <td>2694.0</td>\n",
       "      <td>6557.0</td>\n",
       "    </tr>\n",
       "    <tr>\n",
       "      <th>United_States_of_America</th>\n",
       "      <td>100.0</td>\n",
       "      <td>3988.09</td>\n",
       "      <td>8855.543003</td>\n",
       "      <td>0.0</td>\n",
       "      <td>0.0</td>\n",
       "      <td>1.0</td>\n",
       "      <td>577.5</td>\n",
       "      <td>34272.0</td>\n",
       "    </tr>\n",
       "  </tbody>\n",
       "</table>\n",
       "</div>"
      ],
      "text/plain": [
       "                          count     mean          std  min  25%  50%     75%  \\\n",
       "country                                                                        \n",
       "Italy                     100.0  1355.86  2074.637498  0.0  0.0  0.0  2694.0   \n",
       "United_States_of_America  100.0  3988.09  8855.543003  0.0  0.0  1.0   577.5   \n",
       "\n",
       "                              max  \n",
       "country                            \n",
       "Italy                      6557.0  \n",
       "United_States_of_America  34272.0  "
      ]
     },
     "execution_count": 62,
     "metadata": {},
     "output_type": "execute_result"
    }
   ],
   "source": [
    "# 24 do a groupby() method on country to compare cases using the describe() method \n",
    "usa_italy.groupby(\"country\")[\"cases\"].describe()"
   ]
  },
  {
   "cell_type": "code",
   "execution_count": null,
   "metadata": {},
   "outputs": [],
   "source": []
  }
 ],
 "metadata": {
  "kernelspec": {
   "display_name": "Python 3 (ipykernel)",
   "language": "python",
   "name": "python3"
  },
  "language_info": {
   "codemirror_mode": {
    "name": "ipython",
    "version": 3
   },
   "file_extension": ".py",
   "mimetype": "text/x-python",
   "name": "python",
   "nbconvert_exporter": "python",
   "pygments_lexer": "ipython3",
   "version": "3.9.13"
  }
 },
 "nbformat": 4,
 "nbformat_minor": 4
}
