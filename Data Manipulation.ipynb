{
 "cells": [
  {
   "cell_type": "code",
   "execution_count": 1,
   "metadata": {},
   "outputs": [],
   "source": [
    "# Enter your name: Yung Han Wei"
   ]
  },
  {
   "cell_type": "markdown",
   "metadata": {},
   "source": [
    "### Instructions:\n",
    "Complete the problems below. Problems 1-11 contain missing syntax denoted with three dashes (---). Replace the dashes enter the proper code and display the output. Use any predefined variables as arguments in the function/method whenever provided.\n",
    "Problems 12 & 13 require that you code the entire solution. Save your file as a pdf and submit your jupyter file and PDF to Blackboard. "
   ]
  },
  {
   "cell_type": "markdown",
   "metadata": {},
   "source": [
    "#### Problem 0"
   ]
  },
  {
   "cell_type": "code",
   "execution_count": 2,
   "metadata": {},
   "outputs": [
    {
     "data": {
      "text/plain": [
       "'C:\\\\Users\\\\Herry\\\\MIS_433'"
      ]
     },
     "execution_count": 2,
     "metadata": {},
     "output_type": "execute_result"
    }
   ],
   "source": [
    "#a\n",
    "#Run this cell first before moving on\n",
    "\n",
    "import pandas as pd\n",
    "import matplotlib.pyplot as plt\n",
    "import seaborn as sns\n",
    "plt.style.use(\"ggplot\")\n",
    "import os\n",
    "os.getcwd()"
   ]
  },
  {
   "cell_type": "code",
   "execution_count": 3,
   "metadata": {},
   "outputs": [],
   "source": [
    "#b\n",
    "#Use the urls to load the data using the read_csv function.\n",
    "\n",
    "url_cases = \"https://github.com/CSSEGISandData/COVID-19/raw/master/csse_covid_19_data/csse_covid_19_time_series/time_series_covid19_confirmed_US.csv\"\n",
    "url_deaths = \"https://github.com/CSSEGISandData/COVID-19/raw/master/csse_covid_19_data/csse_covid_19_time_series/time_series_covid19_deaths_US.csv\"\n",
    "df_cases = pd.read_csv(url_cases)\n",
    "df_deaths = pd.read_csv(url_deaths)"
   ]
  },
  {
   "cell_type": "markdown",
   "metadata": {},
   "source": [
    "#### Problem 1"
   ]
  },
  {
   "cell_type": "code",
   "execution_count": 4,
   "metadata": {},
   "outputs": [],
   "source": [
    "#1a\n",
    "#Drop the following columns for df_cases and df_deaths using the drop list. \n",
    "# Set inplace to True\n",
    "# Note: if you try to run a code cell twice that has inplace=True, an error will likely output, \n",
    "#       to remove error, restart Kernel and re-run cells.\n",
    "\n",
    "drop = [\"UID\", \"iso2\", \"iso3\", \"code3\", \"FIPS\", \"Country_Region\",\"Lat\", \"Long_\"]\n",
    "df_cases.drop(columns=drop, inplace=True)\n",
    "df_deaths.drop(columns=drop , inplace=True)"
   ]
  },
  {
   "cell_type": "code",
   "execution_count": 5,
   "metadata": {},
   "outputs": [
    {
     "name": "stdout",
     "output_type": "stream",
     "text": [
      "Index(['Admin2', 'Province_State', 'Combined_Key', '1/22/20', '1/23/20',\n",
      "       '1/24/20'],\n",
      "      dtype='object')\n",
      "Index(['Admin2', 'Province_State', 'Combined_Key', 'Population', '1/22/20',\n",
      "       '1/23/20'],\n",
      "      dtype='object')\n"
     ]
    }
   ],
   "source": [
    "#1b\n",
    "# Now review the first 6 columns for both df_cases and df_deaths using the slicing technique (\":\")\n",
    "# This is to make sure the columns from part a were removed, as specified in 1a.\n",
    "\n",
    "print(df_cases.columns[0:6])\n",
    "print(df_deaths.columns[0:6])"
   ]
  },
  {
   "cell_type": "code",
   "execution_count": 6,
   "metadata": {},
   "outputs": [
    {
     "name": "stdout",
     "output_type": "stream",
     "text": [
      "Index(['Admin2', 'Province_State', 'Combined_Key', '1/22/20', '1/23/20',\n",
      "       '1/24/20'],\n",
      "      dtype='object')\n",
      "Index(['Admin2', 'Province_State', 'Combined_Key', 'Population', '1/22/20',\n",
      "       '1/23/20'],\n",
      "      dtype='object')\n"
     ]
    }
   ],
   "source": [
    "#1c\n",
    "# Review the first 6 columns names (again) for df_cases and df_deaths\n",
    "# Notice that df_deaths has a Population column but not df_cases (Problem 4 will address this)\n",
    "\n",
    "print(df_cases.columns[:6])\n",
    "print(df_deaths.columns[:6])"
   ]
  },
  {
   "cell_type": "markdown",
   "metadata": {},
   "source": [
    "#### Problem 2"
   ]
  },
  {
   "cell_type": "code",
   "execution_count": 7,
   "metadata": {},
   "outputs": [
    {
     "name": "stdout",
     "output_type": "stream",
     "text": [
      "Index(['county', 'state', 'county_state', '1/22/20', '1/23/20', '1/24/20'], dtype='object')\n",
      "Index(['county', 'state', 'county_state', 'Population', '1/22/20', '1/23/20'], dtype='object')\n"
     ]
    }
   ],
   "source": [
    "#2a\n",
    "#Rename the columns for both dataframes using the rename dictionary\n",
    "# Set inplace=True\n",
    "\n",
    "rename = {\"Admin2\": \"county\", \"Province_State\" : \"state\", \"Combined_Key\" : \"county_state\"}\n",
    "df_cases.rename(columns=rename, inplace=True)\n",
    "df_deaths.rename(columns=rename, inplace=True)\n",
    "\n",
    "# Review the first 6 columns names for df_cases and df_deaths\n",
    "# Be sure the that column names are renamed as specified above in 2a.\n",
    "print(df_cases.columns[0:6])\n",
    "print(df_deaths.columns[0:6])"
   ]
  },
  {
   "cell_type": "markdown",
   "metadata": {},
   "source": [
    "#### Problem 3"
   ]
  },
  {
   "cell_type": "code",
   "execution_count": 8,
   "metadata": {},
   "outputs": [
    {
     "data": {
      "text/html": [
       "<div>\n",
       "<style scoped>\n",
       "    .dataframe tbody tr th:only-of-type {\n",
       "        vertical-align: middle;\n",
       "    }\n",
       "\n",
       "    .dataframe tbody tr th {\n",
       "        vertical-align: top;\n",
       "    }\n",
       "\n",
       "    .dataframe thead th {\n",
       "        text-align: right;\n",
       "    }\n",
       "</style>\n",
       "<table border=\"1\" class=\"dataframe\">\n",
       "  <thead>\n",
       "    <tr style=\"text-align: right;\">\n",
       "      <th></th>\n",
       "      <th>county</th>\n",
       "      <th>state</th>\n",
       "      <th>county_state</th>\n",
       "      <th>date</th>\n",
       "      <th>cases</th>\n",
       "    </tr>\n",
       "  </thead>\n",
       "  <tbody>\n",
       "    <tr>\n",
       "      <th>3819901</th>\n",
       "      <td>Teton</td>\n",
       "      <td>Wyoming</td>\n",
       "      <td>Teton, Wyoming, US</td>\n",
       "      <td>3/9/23</td>\n",
       "      <td>12134</td>\n",
       "    </tr>\n",
       "    <tr>\n",
       "      <th>3819902</th>\n",
       "      <td>Uinta</td>\n",
       "      <td>Wyoming</td>\n",
       "      <td>Uinta, Wyoming, US</td>\n",
       "      <td>3/9/23</td>\n",
       "      <td>6406</td>\n",
       "    </tr>\n",
       "    <tr>\n",
       "      <th>3819903</th>\n",
       "      <td>Unassigned</td>\n",
       "      <td>Wyoming</td>\n",
       "      <td>Unassigned, Wyoming, US</td>\n",
       "      <td>3/9/23</td>\n",
       "      <td>0</td>\n",
       "    </tr>\n",
       "    <tr>\n",
       "      <th>3819904</th>\n",
       "      <td>Washakie</td>\n",
       "      <td>Wyoming</td>\n",
       "      <td>Washakie, Wyoming, US</td>\n",
       "      <td>3/9/23</td>\n",
       "      <td>2755</td>\n",
       "    </tr>\n",
       "    <tr>\n",
       "      <th>3819905</th>\n",
       "      <td>Weston</td>\n",
       "      <td>Wyoming</td>\n",
       "      <td>Weston, Wyoming, US</td>\n",
       "      <td>3/9/23</td>\n",
       "      <td>1905</td>\n",
       "    </tr>\n",
       "  </tbody>\n",
       "</table>\n",
       "</div>"
      ],
      "text/plain": [
       "             county    state             county_state    date  cases\n",
       "3819901       Teton  Wyoming       Teton, Wyoming, US  3/9/23  12134\n",
       "3819902       Uinta  Wyoming       Uinta, Wyoming, US  3/9/23   6406\n",
       "3819903  Unassigned  Wyoming  Unassigned, Wyoming, US  3/9/23      0\n",
       "3819904    Washakie  Wyoming    Washakie, Wyoming, US  3/9/23   2755\n",
       "3819905      Weston  Wyoming      Weston, Wyoming, US  3/9/23   1905"
      ]
     },
     "execution_count": 8,
     "metadata": {},
     "output_type": "execute_result"
    }
   ],
   "source": [
    "#Melt/reshape df_cases. Use the keep list for the id_vars parameter.\n",
    "# Set var_name=\"date\" and value_name=\"cases\" \n",
    "\n",
    "id_vars_cases = [\"county\", \"state\", \"county_state\"]\n",
    "df_cases_melted = pd.melt(df_cases, \n",
    "                          id_vars=id_vars_cases, \n",
    "                          var_name=\"date\", \n",
    "                          value_name=\"cases\")\n",
    "df_cases_melted.tail()"
   ]
  },
  {
   "cell_type": "markdown",
   "metadata": {},
   "source": [
    "#### Problem 4"
   ]
  },
  {
   "cell_type": "code",
   "execution_count": 9,
   "metadata": {},
   "outputs": [
    {
     "data": {
      "text/html": [
       "<div>\n",
       "<style scoped>\n",
       "    .dataframe tbody tr th:only-of-type {\n",
       "        vertical-align: middle;\n",
       "    }\n",
       "\n",
       "    .dataframe tbody tr th {\n",
       "        vertical-align: top;\n",
       "    }\n",
       "\n",
       "    .dataframe thead th {\n",
       "        text-align: right;\n",
       "    }\n",
       "</style>\n",
       "<table border=\"1\" class=\"dataframe\">\n",
       "  <thead>\n",
       "    <tr style=\"text-align: right;\">\n",
       "      <th></th>\n",
       "      <th>county</th>\n",
       "      <th>state</th>\n",
       "      <th>county_state</th>\n",
       "      <th>Population</th>\n",
       "      <th>date</th>\n",
       "      <th>deaths</th>\n",
       "    </tr>\n",
       "  </thead>\n",
       "  <tbody>\n",
       "    <tr>\n",
       "      <th>3819901</th>\n",
       "      <td>Teton</td>\n",
       "      <td>Wyoming</td>\n",
       "      <td>Teton, Wyoming, US</td>\n",
       "      <td>23464</td>\n",
       "      <td>3/9/23</td>\n",
       "      <td>16</td>\n",
       "    </tr>\n",
       "    <tr>\n",
       "      <th>3819902</th>\n",
       "      <td>Uinta</td>\n",
       "      <td>Wyoming</td>\n",
       "      <td>Uinta, Wyoming, US</td>\n",
       "      <td>20226</td>\n",
       "      <td>3/9/23</td>\n",
       "      <td>43</td>\n",
       "    </tr>\n",
       "    <tr>\n",
       "      <th>3819903</th>\n",
       "      <td>Unassigned</td>\n",
       "      <td>Wyoming</td>\n",
       "      <td>Unassigned, Wyoming, US</td>\n",
       "      <td>0</td>\n",
       "      <td>3/9/23</td>\n",
       "      <td>0</td>\n",
       "    </tr>\n",
       "    <tr>\n",
       "      <th>3819904</th>\n",
       "      <td>Washakie</td>\n",
       "      <td>Wyoming</td>\n",
       "      <td>Washakie, Wyoming, US</td>\n",
       "      <td>7805</td>\n",
       "      <td>3/9/23</td>\n",
       "      <td>51</td>\n",
       "    </tr>\n",
       "    <tr>\n",
       "      <th>3819905</th>\n",
       "      <td>Weston</td>\n",
       "      <td>Wyoming</td>\n",
       "      <td>Weston, Wyoming, US</td>\n",
       "      <td>6927</td>\n",
       "      <td>3/9/23</td>\n",
       "      <td>23</td>\n",
       "    </tr>\n",
       "  </tbody>\n",
       "</table>\n",
       "</div>"
      ],
      "text/plain": [
       "             county    state             county_state  Population    date  \\\n",
       "3819901       Teton  Wyoming       Teton, Wyoming, US       23464  3/9/23   \n",
       "3819902       Uinta  Wyoming       Uinta, Wyoming, US       20226  3/9/23   \n",
       "3819903  Unassigned  Wyoming  Unassigned, Wyoming, US           0  3/9/23   \n",
       "3819904    Washakie  Wyoming    Washakie, Wyoming, US        7805  3/9/23   \n",
       "3819905      Weston  Wyoming      Weston, Wyoming, US        6927  3/9/23   \n",
       "\n",
       "         deaths  \n",
       "3819901      16  \n",
       "3819902      43  \n",
       "3819903       0  \n",
       "3819904      51  \n",
       "3819905      23  "
      ]
     },
     "execution_count": 9,
     "metadata": {},
     "output_type": "execute_result"
    }
   ],
   "source": [
    "#Melt/reshape df_deaths.  \n",
    "# Set var_name=\"date\" and value_name=\"deaths\" \n",
    "\n",
    "id_vars_deaths = [\"county\", \"state\", \"county_state\", \"Population\"]\n",
    "df_deaths_melted = pd.melt(df_deaths, id_vars=id_vars_deaths, \n",
    "                           var_name=\"date\", \n",
    "                           value_name='deaths')\n",
    "df_deaths_melted.tail()"
   ]
  },
  {
   "cell_type": "markdown",
   "metadata": {},
   "source": [
    "#### Problem 5"
   ]
  },
  {
   "cell_type": "code",
   "execution_count": 10,
   "metadata": {},
   "outputs": [
    {
     "data": {
      "text/html": [
       "<div>\n",
       "<style scoped>\n",
       "    .dataframe tbody tr th:only-of-type {\n",
       "        vertical-align: middle;\n",
       "    }\n",
       "\n",
       "    .dataframe tbody tr th {\n",
       "        vertical-align: top;\n",
       "    }\n",
       "\n",
       "    .dataframe thead th {\n",
       "        text-align: right;\n",
       "    }\n",
       "</style>\n",
       "<table border=\"1\" class=\"dataframe\">\n",
       "  <thead>\n",
       "    <tr style=\"text-align: right;\">\n",
       "      <th></th>\n",
       "      <th>county</th>\n",
       "      <th>state</th>\n",
       "      <th>county_state</th>\n",
       "      <th>date</th>\n",
       "      <th>cases</th>\n",
       "      <th>Population</th>\n",
       "      <th>deaths</th>\n",
       "    </tr>\n",
       "  </thead>\n",
       "  <tbody>\n",
       "    <tr>\n",
       "      <th>3819901</th>\n",
       "      <td>Teton</td>\n",
       "      <td>Wyoming</td>\n",
       "      <td>Teton, Wyoming, US</td>\n",
       "      <td>3/9/23</td>\n",
       "      <td>12134</td>\n",
       "      <td>23464</td>\n",
       "      <td>16</td>\n",
       "    </tr>\n",
       "    <tr>\n",
       "      <th>3819902</th>\n",
       "      <td>Uinta</td>\n",
       "      <td>Wyoming</td>\n",
       "      <td>Uinta, Wyoming, US</td>\n",
       "      <td>3/9/23</td>\n",
       "      <td>6406</td>\n",
       "      <td>20226</td>\n",
       "      <td>43</td>\n",
       "    </tr>\n",
       "    <tr>\n",
       "      <th>3819903</th>\n",
       "      <td>Unassigned</td>\n",
       "      <td>Wyoming</td>\n",
       "      <td>Unassigned, Wyoming, US</td>\n",
       "      <td>3/9/23</td>\n",
       "      <td>0</td>\n",
       "      <td>0</td>\n",
       "      <td>0</td>\n",
       "    </tr>\n",
       "    <tr>\n",
       "      <th>3819904</th>\n",
       "      <td>Washakie</td>\n",
       "      <td>Wyoming</td>\n",
       "      <td>Washakie, Wyoming, US</td>\n",
       "      <td>3/9/23</td>\n",
       "      <td>2755</td>\n",
       "      <td>7805</td>\n",
       "      <td>51</td>\n",
       "    </tr>\n",
       "    <tr>\n",
       "      <th>3819905</th>\n",
       "      <td>Weston</td>\n",
       "      <td>Wyoming</td>\n",
       "      <td>Weston, Wyoming, US</td>\n",
       "      <td>3/9/23</td>\n",
       "      <td>1905</td>\n",
       "      <td>6927</td>\n",
       "      <td>23</td>\n",
       "    </tr>\n",
       "  </tbody>\n",
       "</table>\n",
       "</div>"
      ],
      "text/plain": [
       "             county    state             county_state    date  cases  \\\n",
       "3819901       Teton  Wyoming       Teton, Wyoming, US  3/9/23  12134   \n",
       "3819902       Uinta  Wyoming       Uinta, Wyoming, US  3/9/23   6406   \n",
       "3819903  Unassigned  Wyoming  Unassigned, Wyoming, US  3/9/23      0   \n",
       "3819904    Washakie  Wyoming    Washakie, Wyoming, US  3/9/23   2755   \n",
       "3819905      Weston  Wyoming      Weston, Wyoming, US  3/9/23   1905   \n",
       "\n",
       "         Population  deaths  \n",
       "3819901       23464      16  \n",
       "3819902       20226      43  \n",
       "3819903           0       0  \n",
       "3819904        7805      51  \n",
       "3819905        6927      23  "
      ]
     },
     "execution_count": 10,
     "metadata": {},
     "output_type": "execute_result"
    }
   ],
   "source": [
    "#Merge the melted dataframes for df_cases and df_deaths.\n",
    "#df contains data for all counties in the United States\n",
    "\n",
    "df = pd.merge(df_cases_melted, df_deaths_melted)\n",
    "df.tail()"
   ]
  },
  {
   "cell_type": "markdown",
   "metadata": {},
   "source": [
    "#### Problem 6"
   ]
  },
  {
   "cell_type": "code",
   "execution_count": 11,
   "metadata": {},
   "outputs": [
    {
     "data": {
      "text/plain": [
       "county                  object\n",
       "state                   object\n",
       "county_state            object\n",
       "date            datetime64[ns]\n",
       "cases                    int64\n",
       "Population               int64\n",
       "deaths                   int64\n",
       "dtype: object"
      ]
     },
     "execution_count": 11,
     "metadata": {},
     "output_type": "execute_result"
    }
   ],
   "source": [
    "#Change the dates column in df to a datetime object. \n",
    "\n",
    "df.date = pd.to_datetime(df['date'])\n",
    "df.dtypes"
   ]
  },
  {
   "cell_type": "markdown",
   "metadata": {},
   "source": [
    "#### Problem 7"
   ]
  },
  {
   "cell_type": "code",
   "execution_count": 12,
   "metadata": {},
   "outputs": [
    {
     "data": {
      "text/html": [
       "<div>\n",
       "<style scoped>\n",
       "    .dataframe tbody tr th:only-of-type {\n",
       "        vertical-align: middle;\n",
       "    }\n",
       "\n",
       "    .dataframe tbody tr th {\n",
       "        vertical-align: top;\n",
       "    }\n",
       "\n",
       "    .dataframe thead th {\n",
       "        text-align: right;\n",
       "    }\n",
       "</style>\n",
       "<table border=\"1\" class=\"dataframe\">\n",
       "  <thead>\n",
       "    <tr style=\"text-align: right;\">\n",
       "      <th></th>\n",
       "      <th>date</th>\n",
       "      <th>cases</th>\n",
       "      <th>deaths</th>\n",
       "    </tr>\n",
       "  </thead>\n",
       "  <tbody>\n",
       "    <tr>\n",
       "      <th>1138</th>\n",
       "      <td>2023-03-05</td>\n",
       "      <td>103646975</td>\n",
       "      <td>1122134</td>\n",
       "    </tr>\n",
       "    <tr>\n",
       "      <th>1139</th>\n",
       "      <td>2023-03-06</td>\n",
       "      <td>103655539</td>\n",
       "      <td>1122181</td>\n",
       "    </tr>\n",
       "    <tr>\n",
       "      <th>1140</th>\n",
       "      <td>2023-03-07</td>\n",
       "      <td>103690910</td>\n",
       "      <td>1122516</td>\n",
       "    </tr>\n",
       "    <tr>\n",
       "      <th>1141</th>\n",
       "      <td>2023-03-08</td>\n",
       "      <td>103755771</td>\n",
       "      <td>1123246</td>\n",
       "    </tr>\n",
       "    <tr>\n",
       "      <th>1142</th>\n",
       "      <td>2023-03-09</td>\n",
       "      <td>103802702</td>\n",
       "      <td>1123836</td>\n",
       "    </tr>\n",
       "  </tbody>\n",
       "</table>\n",
       "</div>"
      ],
      "text/plain": [
       "           date      cases   deaths\n",
       "1138 2023-03-05  103646975  1122134\n",
       "1139 2023-03-06  103655539  1122181\n",
       "1140 2023-03-07  103690910  1122516\n",
       "1141 2023-03-08  103755771  1123246\n",
       "1142 2023-03-09  103802702  1123836"
      ]
     },
     "execution_count": 12,
     "metadata": {},
     "output_type": "execute_result"
    }
   ],
   "source": [
    "#7a\n",
    "#Group df on the date column and do a .sum() on the cases column.\n",
    "#This aggregates the data to a national level by \n",
    "#    totaling all county cases & deaths by each date.\n",
    "\n",
    "usa = df.groupby(\"date\", as_index=False)[[\"cases\", \"deaths\"]].sum()\n",
    "usa.tail() # last cases value should be: 103802702 on March 9, 2023"
   ]
  },
  {
   "cell_type": "code",
   "execution_count": 13,
   "metadata": {},
   "outputs": [
    {
     "data": {
      "image/png": "[encoded data removed]",
      "text/plain": [
       "<Figure size 640x480 with 1 Axes>"
      ]
     },
     "metadata": {},
     "output_type": "display_data"
    }
   ],
   "source": [
    "#7b\n",
    "# Refer to the usa dataframe in the plot method to display USA cases over all time periods (date)\n",
    "\n",
    "fig, ax = plt.subplots()\n",
    "# Provided code to format x and y axis: \n",
    "import matplotlib.dates as mdates\n",
    "ax.yaxis.get_major_formatter().set_scientific(False) \n",
    "ax.xaxis.set_major_formatter(mdates.DateFormatter('%Y-%m-%d')) \n",
    "\n",
    "# Code to develop a line chart \n",
    "ax.plot(usa[\"date\"], usa[\"cases\"]) # <------ fill in the blanks\n",
    "ax.set_ylabel(\"Cases\")\n",
    "ax.set_xlabel(\"Date\")\n",
    "ax.set_title(\"USA Reported Total COVID-19 Cases\")\n",
    "plt.xticks(rotation=45)  # Rotate x-axis labels for better readability\n",
    "plt.show()"
   ]
  },
  {
   "cell_type": "markdown",
   "metadata": {},
   "source": [
    "#### Problem 8"
   ]
  },
  {
   "cell_type": "code",
   "execution_count": 14,
   "metadata": {},
   "outputs": [
    {
     "data": {
      "text/html": [
       "<div>\n",
       "<style scoped>\n",
       "    .dataframe tbody tr th:only-of-type {\n",
       "        vertical-align: middle;\n",
       "    }\n",
       "\n",
       "    .dataframe tbody tr th {\n",
       "        vertical-align: top;\n",
       "    }\n",
       "\n",
       "    .dataframe thead th {\n",
       "        text-align: right;\n",
       "    }\n",
       "</style>\n",
       "<table border=\"1\" class=\"dataframe\">\n",
       "  <thead>\n",
       "    <tr style=\"text-align: right;\">\n",
       "      <th></th>\n",
       "      <th>date</th>\n",
       "      <th>cases</th>\n",
       "      <th>deaths</th>\n",
       "      <th>new_cases</th>\n",
       "    </tr>\n",
       "  </thead>\n",
       "  <tbody>\n",
       "    <tr>\n",
       "      <th>1138</th>\n",
       "      <td>2023-03-05</td>\n",
       "      <td>103646975</td>\n",
       "      <td>1122134</td>\n",
       "      <td>-3862.0</td>\n",
       "    </tr>\n",
       "    <tr>\n",
       "      <th>1139</th>\n",
       "      <td>2023-03-06</td>\n",
       "      <td>103655539</td>\n",
       "      <td>1122181</td>\n",
       "      <td>8564.0</td>\n",
       "    </tr>\n",
       "    <tr>\n",
       "      <th>1140</th>\n",
       "      <td>2023-03-07</td>\n",
       "      <td>103690910</td>\n",
       "      <td>1122516</td>\n",
       "      <td>35371.0</td>\n",
       "    </tr>\n",
       "    <tr>\n",
       "      <th>1141</th>\n",
       "      <td>2023-03-08</td>\n",
       "      <td>103755771</td>\n",
       "      <td>1123246</td>\n",
       "      <td>64861.0</td>\n",
       "    </tr>\n",
       "    <tr>\n",
       "      <th>1142</th>\n",
       "      <td>2023-03-09</td>\n",
       "      <td>103802702</td>\n",
       "      <td>1123836</td>\n",
       "      <td>46931.0</td>\n",
       "    </tr>\n",
       "  </tbody>\n",
       "</table>\n",
       "</div>"
      ],
      "text/plain": [
       "           date      cases   deaths  new_cases\n",
       "1138 2023-03-05  103646975  1122134    -3862.0\n",
       "1139 2023-03-06  103655539  1122181     8564.0\n",
       "1140 2023-03-07  103690910  1122516    35371.0\n",
       "1141 2023-03-08  103755771  1123246    64861.0\n",
       "1142 2023-03-09  103802702  1123836    46931.0"
      ]
     },
     "execution_count": 14,
     "metadata": {},
     "output_type": "execute_result"
    }
   ],
   "source": [
    "#8a\n",
    "#Create derived data column named new_cases using the diff() method on usa's cases.\n",
    "\n",
    "usa[\"new_cases\"] = usa.cases.diff()\n",
    "usa.tail()"
   ]
  },
  {
   "cell_type": "code",
   "execution_count": 15,
   "metadata": {},
   "outputs": [
    {
     "data": {
      "image/png": "[encoded data removed]",
      "text/plain": [
       "<Figure size 640x480 with 1 Axes>"
      ]
     },
     "metadata": {},
     "output_type": "display_data"
    }
   ],
   "source": [
    "#8b\n",
    "#Plot a bar chart using last ten dates and new_cases from usa  \n",
    "\n",
    "plt.bar(usa.date.iloc[-10:], usa.new_cases.iloc[-10:])\n",
    "plt.xticks(rotation=45)\n",
    "plt.show()"
   ]
  },
  {
   "cell_type": "code",
   "execution_count": 16,
   "metadata": {},
   "outputs": [
    {
     "data": {
      "text/html": [
       "<div>\n",
       "<style scoped>\n",
       "    .dataframe tbody tr th:only-of-type {\n",
       "        vertical-align: middle;\n",
       "    }\n",
       "\n",
       "    .dataframe tbody tr th {\n",
       "        vertical-align: top;\n",
       "    }\n",
       "\n",
       "    .dataframe thead th {\n",
       "        text-align: right;\n",
       "    }\n",
       "</style>\n",
       "<table border=\"1\" class=\"dataframe\">\n",
       "  <thead>\n",
       "    <tr style=\"text-align: right;\">\n",
       "      <th></th>\n",
       "      <th>date</th>\n",
       "      <th>cases</th>\n",
       "      <th>deaths</th>\n",
       "      <th>new_cases</th>\n",
       "    </tr>\n",
       "  </thead>\n",
       "  <tbody>\n",
       "    <tr>\n",
       "      <th>0</th>\n",
       "      <td>2020-01-22</td>\n",
       "      <td>1</td>\n",
       "      <td>1</td>\n",
       "      <td>NaN</td>\n",
       "    </tr>\n",
       "    <tr>\n",
       "      <th>1</th>\n",
       "      <td>2020-01-23</td>\n",
       "      <td>1</td>\n",
       "      <td>1</td>\n",
       "      <td>0.0</td>\n",
       "    </tr>\n",
       "    <tr>\n",
       "      <th>2</th>\n",
       "      <td>2020-01-24</td>\n",
       "      <td>2</td>\n",
       "      <td>1</td>\n",
       "      <td>1.0</td>\n",
       "    </tr>\n",
       "    <tr>\n",
       "      <th>3</th>\n",
       "      <td>2020-01-25</td>\n",
       "      <td>2</td>\n",
       "      <td>1</td>\n",
       "      <td>0.0</td>\n",
       "    </tr>\n",
       "    <tr>\n",
       "      <th>4</th>\n",
       "      <td>2020-01-26</td>\n",
       "      <td>5</td>\n",
       "      <td>1</td>\n",
       "      <td>3.0</td>\n",
       "    </tr>\n",
       "    <tr>\n",
       "      <th>...</th>\n",
       "      <td>...</td>\n",
       "      <td>...</td>\n",
       "      <td>...</td>\n",
       "      <td>...</td>\n",
       "    </tr>\n",
       "    <tr>\n",
       "      <th>1138</th>\n",
       "      <td>2023-03-05</td>\n",
       "      <td>103646975</td>\n",
       "      <td>1122134</td>\n",
       "      <td>-3862.0</td>\n",
       "    </tr>\n",
       "    <tr>\n",
       "      <th>1139</th>\n",
       "      <td>2023-03-06</td>\n",
       "      <td>103655539</td>\n",
       "      <td>1122181</td>\n",
       "      <td>8564.0</td>\n",
       "    </tr>\n",
       "    <tr>\n",
       "      <th>1140</th>\n",
       "      <td>2023-03-07</td>\n",
       "      <td>103690910</td>\n",
       "      <td>1122516</td>\n",
       "      <td>35371.0</td>\n",
       "    </tr>\n",
       "    <tr>\n",
       "      <th>1141</th>\n",
       "      <td>2023-03-08</td>\n",
       "      <td>103755771</td>\n",
       "      <td>1123246</td>\n",
       "      <td>64861.0</td>\n",
       "    </tr>\n",
       "    <tr>\n",
       "      <th>1142</th>\n",
       "      <td>2023-03-09</td>\n",
       "      <td>103802702</td>\n",
       "      <td>1123836</td>\n",
       "      <td>46931.0</td>\n",
       "    </tr>\n",
       "  </tbody>\n",
       "</table>\n",
       "<p>1143 rows × 4 columns</p>\n",
       "</div>"
      ],
      "text/plain": [
       "           date      cases   deaths  new_cases\n",
       "0    2020-01-22          1        1        NaN\n",
       "1    2020-01-23          1        1        0.0\n",
       "2    2020-01-24          2        1        1.0\n",
       "3    2020-01-25          2        1        0.0\n",
       "4    2020-01-26          5        1        3.0\n",
       "...         ...        ...      ...        ...\n",
       "1138 2023-03-05  103646975  1122134    -3862.0\n",
       "1139 2023-03-06  103655539  1122181     8564.0\n",
       "1140 2023-03-07  103690910  1122516    35371.0\n",
       "1141 2023-03-08  103755771  1123246    64861.0\n",
       "1142 2023-03-09  103802702  1123836    46931.0\n",
       "\n",
       "[1143 rows x 4 columns]"
      ]
     },
     "execution_count": 16,
     "metadata": {},
     "output_type": "execute_result"
    }
   ],
   "source": [
    "usa"
   ]
  },
  {
   "cell_type": "markdown",
   "metadata": {},
   "source": [
    "#### Problem 9"
   ]
  },
  {
   "cell_type": "code",
   "execution_count": 17,
   "metadata": {},
   "outputs": [
    {
     "data": {
      "text/html": [
       "<div>\n",
       "<style scoped>\n",
       "    .dataframe tbody tr th:only-of-type {\n",
       "        vertical-align: middle;\n",
       "    }\n",
       "\n",
       "    .dataframe tbody tr th {\n",
       "        vertical-align: top;\n",
       "    }\n",
       "\n",
       "    .dataframe thead th {\n",
       "        text-align: right;\n",
       "    }\n",
       "</style>\n",
       "<table border=\"1\" class=\"dataframe\">\n",
       "  <thead>\n",
       "    <tr style=\"text-align: right;\">\n",
       "      <th></th>\n",
       "      <th>date</th>\n",
       "      <th>cases</th>\n",
       "      <th>deaths</th>\n",
       "      <th>new_cases</th>\n",
       "    </tr>\n",
       "  </thead>\n",
       "  <tbody>\n",
       "    <tr>\n",
       "      <th>345</th>\n",
       "      <td>2021-01-01</td>\n",
       "      <td>20397401</td>\n",
       "      <td>352813</td>\n",
       "      <td>177520.0</td>\n",
       "    </tr>\n",
       "    <tr>\n",
       "      <th>346</th>\n",
       "      <td>2021-01-02</td>\n",
       "      <td>20670025</td>\n",
       "      <td>355409</td>\n",
       "      <td>272624.0</td>\n",
       "    </tr>\n",
       "    <tr>\n",
       "      <th>347</th>\n",
       "      <td>2021-01-03</td>\n",
       "      <td>20873238</td>\n",
       "      <td>356837</td>\n",
       "      <td>203213.0</td>\n",
       "    </tr>\n",
       "    <tr>\n",
       "      <th>348</th>\n",
       "      <td>2021-01-04</td>\n",
       "      <td>21059971</td>\n",
       "      <td>358853</td>\n",
       "      <td>186733.0</td>\n",
       "    </tr>\n",
       "    <tr>\n",
       "      <th>349</th>\n",
       "      <td>2021-01-05</td>\n",
       "      <td>21292113</td>\n",
       "      <td>362429</td>\n",
       "      <td>232142.0</td>\n",
       "    </tr>\n",
       "    <tr>\n",
       "      <th>...</th>\n",
       "      <td>...</td>\n",
       "      <td>...</td>\n",
       "      <td>...</td>\n",
       "      <td>...</td>\n",
       "    </tr>\n",
       "    <tr>\n",
       "      <th>705</th>\n",
       "      <td>2021-12-27</td>\n",
       "      <td>52914266</td>\n",
       "      <td>818614</td>\n",
       "      <td>506071.0</td>\n",
       "    </tr>\n",
       "    <tr>\n",
       "      <th>706</th>\n",
       "      <td>2021-12-28</td>\n",
       "      <td>53286726</td>\n",
       "      <td>820895</td>\n",
       "      <td>372460.0</td>\n",
       "    </tr>\n",
       "    <tr>\n",
       "      <th>707</th>\n",
       "      <td>2021-12-29</td>\n",
       "      <td>53797747</td>\n",
       "      <td>823250</td>\n",
       "      <td>511021.0</td>\n",
       "    </tr>\n",
       "    <tr>\n",
       "      <th>708</th>\n",
       "      <td>2021-12-30</td>\n",
       "      <td>54395695</td>\n",
       "      <td>824737</td>\n",
       "      <td>597948.0</td>\n",
       "    </tr>\n",
       "    <tr>\n",
       "      <th>709</th>\n",
       "      <td>2021-12-31</td>\n",
       "      <td>54907738</td>\n",
       "      <td>825468</td>\n",
       "      <td>512043.0</td>\n",
       "    </tr>\n",
       "  </tbody>\n",
       "</table>\n",
       "<p>365 rows × 4 columns</p>\n",
       "</div>"
      ],
      "text/plain": [
       "          date     cases  deaths  new_cases\n",
       "345 2021-01-01  20397401  352813   177520.0\n",
       "346 2021-01-02  20670025  355409   272624.0\n",
       "347 2021-01-03  20873238  356837   203213.0\n",
       "348 2021-01-04  21059971  358853   186733.0\n",
       "349 2021-01-05  21292113  362429   232142.0\n",
       "..         ...       ...     ...        ...\n",
       "705 2021-12-27  52914266  818614   506071.0\n",
       "706 2021-12-28  53286726  820895   372460.0\n",
       "707 2021-12-29  53797747  823250   511021.0\n",
       "708 2021-12-30  54395695  824737   597948.0\n",
       "709 2021-12-31  54907738  825468   512043.0\n",
       "\n",
       "[365 rows x 4 columns]"
      ]
     },
     "execution_count": 17,
     "metadata": {},
     "output_type": "execute_result"
    }
   ],
   "source": [
    "#Filter usa to only contain data related to 2021.\n",
    "\n",
    "usa2021 = usa[(usa.date >= \"2021-01-01\") & (usa.date <= \"12/31/2021\")].copy()\n",
    "usa2021"
   ]
  },
  {
   "cell_type": "markdown",
   "metadata": {},
   "source": [
    "#### Problem 10"
   ]
  },
  {
   "cell_type": "code",
   "execution_count": 18,
   "metadata": {},
   "outputs": [
    {
     "data": {
      "text/plain": [
       "count       365.000000\n",
       "mean      95035.224658\n",
       "std       81242.584790\n",
       "min        4271.000000\n",
       "25%       41529.000000\n",
       "50%       72250.000000\n",
       "75%      130407.000000\n",
       "max      597948.000000\n",
       "Name: new_cases, dtype: float64"
      ]
     },
     "execution_count": 18,
     "metadata": {},
     "output_type": "execute_result"
    }
   ],
   "source": [
    "# To retrieve summary statistics, use the describe method on the new_cases column for usa2021\n",
    "\n",
    "usa2021.new_cases.describe()"
   ]
  },
  {
   "cell_type": "markdown",
   "metadata": {},
   "source": [
    "#### Problem 11"
   ]
  },
  {
   "cell_type": "code",
   "execution_count": 19,
   "metadata": {},
   "outputs": [
    {
     "data": {
      "text/plain": [
       "Timedelta('1142 days 00:00:00')"
      ]
     },
     "execution_count": 19,
     "metadata": {},
     "output_type": "execute_result"
    }
   ],
   "source": [
    "# Refer to usa data frame,\n",
    "# how many days of reported cases does of COVID19 data set consist of? \n",
    "# Hint: Use the usa date column along with the max() and min() methods\n",
    "#       Subtract the maximum date value and minimum date value.\n",
    "\n",
    "usa.date.max() - usa.date.min()"
   ]
  },
  {
   "cell_type": "markdown",
   "metadata": {},
   "source": [
    "#### Problem 12\n"
   ]
  },
  {
   "cell_type": "code",
   "execution_count": 20,
   "metadata": {},
   "outputs": [
    {
     "data": {
      "text/plain": [
       "2969.186813186813"
      ]
     },
     "execution_count": 20,
     "metadata": {},
     "output_type": "execute_result"
    }
   ],
   "source": [
    "# Determine the average number of new cases in 2022 for Virginia. \n",
    "# To solve, do the following:\n",
    "#   1. Create a subset dataframe from the df dataframe to only include Virginia data (it must have all counties in Virginia)\n",
    "#   2. Filter the subset dataframe to focus only on 2022 data\n",
    "#   3. Aggregate the filtered subset using the groupby() method on date and sum() method on cases\n",
    "#   4. Create a new_cases column using the diff() method on cases\n",
    "#   5. Finally, use the mean() method on the aggregated subset\n",
    "\n",
    "va2022 = df[df.state == \"Virginia\"]\n",
    "va2022 = va2022 [(va2022.date >= \"01-01-2022\") & (va2022.date <= \"12-31-2022\")]\n",
    "va2022 = va2022.groupby(\"date\", as_index=False) [[\"cases\"]].sum()\n",
    "va2022[\"new_cases\"] =va2022.cases.diff()\n",
    "va2022.new_cases.mean()\n",
    "\n",
    "\n"
   ]
  },
  {
   "cell_type": "markdown",
   "metadata": {},
   "source": [
    "#### Problem 13"
   ]
  },
  {
   "cell_type": "code",
   "execution_count": null,
   "metadata": {},
   "outputs": [],
   "source": []
  },
  {
   "cell_type": "code",
   "execution_count": 32,
   "metadata": {
    "scrolled": false
   },
   "outputs": [
    {
     "data": {
      "image/png": "[encoded data removed]",
      "text/plain": [
       "<Figure size 1000x600 with 1 Axes>"
      ]
     },
     "metadata": {},
     "output_type": "display_data"
    }
   ],
   "source": [
    "# 13a \n",
    "# Develop two line charts in a plot using .plot() that \n",
    "#     compares Virginia and Maryland total cases over time (all time periods). \n",
    "# An preliminary example is shown below. Your output should look roughly similiar. \n",
    "#     Include x & y labels and a legend to distinguish between VA amd MD.\n",
    "# Note: Do not use new_cases column.\n",
    "\n",
    "va_df = df[df[\"state\"] == \"Virginia\"]\n",
    "md_df = df[df[\"state\"] == \"Maryland\"]\n",
    "plt.figure(figsize = (10, 6))\n",
    "\n",
    "virginia_total_cases = va_df.groupby(\"date\")[\"cases\"].sum().reset_index()\n",
    "maryland_total_cases = md_df.groupby(\"date\")[\"cases\"].sum().reset_index()\n",
    "\n",
    "plt.plot(virginia_total_cases[\"date\"], virginia_total_cases[\"cases\"], label=\"Virginia\")\n",
    "plt.plot(maryland_total_cases[\"date\"], maryland_total_cases[\"cases\"], label=\"Maryland\")\n",
    "\n",
    "\n",
    "plt.ylabel(\"Total Cases\")\n",
    "plt.xlabel(\"Date\")\n",
    "plt.title(\"Comparison of Total COVID-19 Cases in Virginia and Maryland\")\n",
    "plt.xticks(rotation=45)\n",
    "\n",
    "plt.legend()\n",
    "\n",
    "plt.show()\n",
    "\n",
    "\n"
   ]
  },
  {
   "attachments": {
    "image.png": {
     "image/png": "[encoded data removed]"
    }
   },
   "cell_type": "markdown",
   "metadata": {},
   "source": [
    "![image.png](attachment:image.png)"
   ]
  },
  {
   "cell_type": "code",
   "execution_count": 47,
   "metadata": {},
   "outputs": [
    {
     "data": {
      "image/png": "[encoded data removed]",
      "text/plain": [
       "<Figure size 1000x600 with 1 Axes>"
      ]
     },
     "metadata": {},
     "output_type": "display_data"
    }
   ],
   "source": [
    "#13b \n",
    "# Develop two line charts in a plot using .plot() that \n",
    "#     compares Virginia and Maryland total deaths over time (all time periods). \n",
    "# Develop a line chart using .plot() that compares Virginia and Maryland deaths over time. \n",
    "# Example output below.\n",
    "\n",
    "va_df = df[df[\"state\"] == \"Virginia\"]\n",
    "md_df = df[df[\"state\"] == \"Maryland\"]\n",
    "\n",
    "virginia_total_cases2 = va_df.groupby(\"date\")[\"deaths\"].sum().reset_index()\n",
    "maryland_total_cases2 = md_df.groupby(\"date\")[\"deaths\"].sum().reset_index()\n",
    "\n",
    "plt.figure(figsize = (10,6))\n",
    "plt.plot(virginia_total_cases2 [\"date\"], virginia_total_cases2 [\"deaths\"], label = \"Virginia\")\n",
    "plt.plot(maryland_total_cases2 [\"date\"], maryland_total_cases2 [\"deaths\"], label = \"Maryland\")\n",
    "\n",
    "plt.xlabel(\"Dates\")\n",
    "plt.ylabel(\"Total Deaths\")\n",
    "plt.title(\"Total COVID-19 Deaths in Virginia and Maryland\")\n",
    "plt.xticks(rotation = 45)\n",
    "\n",
    "plt.legend()\n",
    "plt.show\n",
    "_ =plt.show\n",
    "\n",
    "\n"
   ]
  },
  {
   "cell_type": "code",
   "execution_count": null,
   "metadata": {},
   "outputs": [],
   "source": []
  }
 ],
 "metadata": {
  "kernelspec": {
   "display_name": "Python 3 (ipykernel)",
   "language": "python",
   "name": "python3"
  },
  "language_info": {
   "codemirror_mode": {
    "name": "ipython",
    "version": 3
   },
   "file_extension": ".py",
   "mimetype": "text/x-python",
   "name": "python",
   "nbconvert_exporter": "python",
   "pygments_lexer": "ipython3",
   "version": "3.9.13"
  }
 },
 "nbformat": 4,
 "nbformat_minor": 4
}
