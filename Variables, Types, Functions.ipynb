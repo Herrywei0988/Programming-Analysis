{
 "cells": [
  {
   "cell_type": "code",
   "execution_count": 39,
   "id": "2344fd3c",
   "metadata": {},
   "outputs": [],
   "source": [
    "# Enter your first and last name here: Yung Han Wei"
   ]
  },
  {
   "cell_type": "code",
   "execution_count": 1,
   "id": "dd5aa45b",
   "metadata": {},
   "outputs": [
    {
     "data": {
      "text/plain": [
       "'C:\\\\Users\\\\Herry\\\\MIS_433'"
      ]
     },
     "execution_count": 1,
     "metadata": {},
     "output_type": "execute_result"
    }
   ],
   "source": [
    "import os\n",
    "os.getcwd()"
   ]
  },
  {
   "cell_type": "markdown",
   "id": "24142ed3",
   "metadata": {},
   "source": [
    "# Simple Variable Definitions; type() Function; len() Function"
   ]
  },
  {
   "cell_type": "markdown",
   "id": "e4576560",
   "metadata": {},
   "source": [
    "***Variable Data Types that Store a Single Value:***"
   ]
  },
  {
   "cell_type": "code",
   "execution_count": 22,
   "id": "eab35212",
   "metadata": {},
   "outputs": [
    {
     "name": "stdout",
     "output_type": "stream",
     "text": [
      "Virginia\n"
     ]
    }
   ],
   "source": [
    "#1 Create a string variable, state, containing the value Virginia \n",
    "\n",
    "state = \"Virginia\"\n",
    "print(state)"
   ]
  },
  {
   "cell_type": "code",
   "execution_count": 3,
   "id": "4045e75d",
   "metadata": {},
   "outputs": [
    {
     "name": "stdout",
     "output_type": "stream",
     "text": [
      "1530000\n"
     ]
    }
   ],
   "source": [
    "#2 Create an integer variable, cases_int, containing the value 1,530,000\n",
    "# Note: Integer values cannot contain commas. \n",
    "\n",
    "cases_int = 1530000\n",
    "print(cases_int)"
   ]
  },
  {
   "cell_type": "code",
   "execution_count": 6,
   "id": "faebaee3",
   "metadata": {},
   "outputs": [],
   "source": [
    "#3 Create a float variable, cases_float, containing the value 1.53\n",
    "\n",
    "cases_float = 1.53"
   ]
  },
  {
   "cell_type": "markdown",
   "id": "6179c559",
   "metadata": {},
   "source": [
    "***Variable Data Types that Store Multiple Values:***"
   ]
  },
  {
   "cell_type": "code",
   "execution_count": 12,
   "id": "f1ba9ae2",
   "metadata": {},
   "outputs": [
    {
     "name": "stdout",
     "output_type": "stream",
     "text": [
      "['Virginia', 'Maryland', 'DC']\n"
     ]
    }
   ],
   "source": [
    "#4 Create a list variable, states_list, containing string values: \"Virginia\", \"Maryland\", \"DC\" \n",
    "# Note: A list consists of square brackets []\n",
    "# Note: Each element (or item) in a list is separated by a comma.\n",
    "\n",
    "states_list = [\"Virginia\", \"Maryland\", \"DC\"]\n",
    "print(states_list)"
   ]
  },
  {
   "cell_type": "code",
   "execution_count": 13,
   "id": "3772f4f7",
   "metadata": {},
   "outputs": [
    {
     "name": "stdout",
     "output_type": "stream",
     "text": [
      "('Virginia', 'Maryland', 'DC')\n"
     ]
    }
   ],
   "source": [
    "#5 Create a tuple variable, states_tuple, containing string values: \"Virginia\", \"Maryland\", \"DC\" \n",
    "# Note: A tuple consists of rounded brackets ()\n",
    "# Note: Each element (or item) in a tuple is separated by a comma.\n",
    "\n",
    "states_tuple = (\"Virginia\", \"Maryland\", \"DC\" )\n",
    "print(states_tuple)"
   ]
  },
  {
   "cell_type": "code",
   "execution_count": 14,
   "id": "3421e5e9",
   "metadata": {},
   "outputs": [
    {
     "name": "stdout",
     "output_type": "stream",
     "text": [
      "{'Virginia': ['VA', 1.53, 100], 'Maryland': 0.953, 'DC': 0.13}\n"
     ]
    }
   ],
   "source": [
    "#6 Create a dictionary variable, states_dictionary, containing \n",
    "#    string key values: \"Virginia\", \"Maryland\", \"DC\", with their\n",
    "#    respective case values (in millions) 1.53, .953, and .130\n",
    "# Note: A dictionary consists of curly brackets {}  \n",
    "# Note: Each key-value pair in a dictionary is separated by a comma.\n",
    "\n",
    "states_dictionary = {\"Virginia\" : 1.53, \"Maryland\" : .953, \"DC\" : .130, \"Virginia\": [\"VA\", 1.53, 100]}\n",
    "print(states_dictionary)"
   ]
  },
  {
   "cell_type": "code",
   "execution_count": 15,
   "id": "5be8fb3a",
   "metadata": {},
   "outputs": [
    {
     "data": {
      "text/plain": [
       "True"
      ]
     },
     "execution_count": 15,
     "metadata": {},
     "output_type": "execute_result"
    }
   ],
   "source": [
    "#7 Create an boolean expression that checks if virginia cases > 1,000,000\n",
    "# Note: A boolean value (i.e., True, False) is considered data type.\n",
    "\n",
    "cases_int > 1000000"
   ]
  },
  {
   "cell_type": "markdown",
   "id": "e25dfed6",
   "metadata": {},
   "source": [
    "# Retrieve Values From Defined Variables"
   ]
  },
  {
   "cell_type": "markdown",
   "id": "4876e3d7",
   "metadata": {},
   "source": [
    "***Variable References within a Print Function***"
   ]
  },
  {
   "cell_type": "code",
   "execution_count": 23,
   "id": "aad332f5",
   "metadata": {},
   "outputs": [
    {
     "name": "stdout",
     "output_type": "stream",
     "text": [
      "Virginia recorded 1530000 cases\n"
     ]
    }
   ],
   "source": [
    "#1 Refer to the defined variables to display the \n",
    "#    output \"Virginia recorded 1530000 cases.\"\n",
    "\n",
    "print(state, \"recorded\", cases_int, \"cases\")"
   ]
  },
  {
   "cell_type": "markdown",
   "id": "923b7a98",
   "metadata": {},
   "source": [
    "***List Indexing***"
   ]
  },
  {
   "cell_type": "code",
   "execution_count": 36,
   "id": "75e32524",
   "metadata": {},
   "outputs": [
    {
     "data": {
      "text/plain": [
       "'Virginia'"
      ]
     },
     "execution_count": 36,
     "metadata": {},
     "output_type": "execute_result"
    }
   ],
   "source": [
    "# 2 Retrieve the first element from states_list (use index) \n",
    "\n",
    "states_list[0]\n"
   ]
  },
  {
   "cell_type": "code",
   "execution_count": 35,
   "id": "0242b277",
   "metadata": {},
   "outputs": [
    {
     "data": {
      "text/plain": [
       "['Virginia', 'Maryland']"
      ]
     },
     "execution_count": 35,
     "metadata": {},
     "output_type": "execute_result"
    }
   ],
   "source": [
    "#3 Retrieve the first two elements from states_list (use index slicing symbol : )\n",
    "\n",
    "states_list[0:2]"
   ]
  },
  {
   "cell_type": "code",
   "execution_count": 37,
   "id": "0c60e267",
   "metadata": {},
   "outputs": [
    {
     "data": {
      "text/plain": [
       "'DC'"
      ]
     },
     "execution_count": 37,
     "metadata": {},
     "output_type": "execute_result"
    }
   ],
   "source": [
    "#4 Retrieve the last element from states_list (use negative indexing) \n",
    "\n",
    "states_list[-1]"
   ]
  },
  {
   "cell_type": "markdown",
   "id": "7e136b9c",
   "metadata": {},
   "source": [
    "***Tuple Indexing***"
   ]
  },
  {
   "cell_type": "code",
   "execution_count": 40,
   "id": "1c943213",
   "metadata": {},
   "outputs": [
    {
     "data": {
      "text/plain": [
       "'Virginia'"
      ]
     },
     "execution_count": 40,
     "metadata": {},
     "output_type": "execute_result"
    }
   ],
   "source": [
    "#5 Retrieve the first element from states_tuple (use index)\n",
    "\n",
    "states_tuple[0]\n"
   ]
  },
  {
   "cell_type": "markdown",
   "id": "0b0cc9a8",
   "metadata": {},
   "source": [
    "***Dictionary Key***"
   ]
  },
  {
   "cell_type": "code",
   "execution_count": 42,
   "id": "cb3b1f78",
   "metadata": {},
   "outputs": [
    {
     "data": {
      "text/plain": [
       "['VA', 1.53, 100]"
      ]
     },
     "execution_count": 42,
     "metadata": {},
     "output_type": "execute_result"
    }
   ],
   "source": [
    "#6 Retrieve the first element from states_dictionary (use key)\n",
    "\n",
    "states_dictionary[\"Virginia\"]\n"
   ]
  },
  {
   "cell_type": "markdown",
   "id": "0162e28a",
   "metadata": {},
   "source": [
    "# Modify Defined Variables"
   ]
  },
  {
   "cell_type": "code",
   "execution_count": 47,
   "id": "31f57176",
   "metadata": {},
   "outputs": [
    {
     "name": "stdout",
     "output_type": "stream",
     "text": [
      "['VA', 'Maryland', 'DC']\n"
     ]
    }
   ],
   "source": [
    "#1 Modify the first element of states_list from Virginia to VA \n",
    "# Note: List is a mutable\n",
    "\n",
    "states_list[0] = \"VA\"\n",
    "print(states_list)"
   ]
  },
  {
   "cell_type": "code",
   "execution_count": 49,
   "id": "23422b25",
   "metadata": {},
   "outputs": [
    {
     "ename": "TypeError",
     "evalue": "'tuple' object does not support item assignment",
     "output_type": "error",
     "traceback": [
      "\u001b[1;31m---------------------------------------------------------------------------\u001b[0m",
      "\u001b[1;31mTypeError\u001b[0m                                 Traceback (most recent call last)",
      "\u001b[1;32m~\\AppData\\Local\\Temp\\ipykernel_26764\\2999113905.py\u001b[0m in \u001b[0;36m<module>\u001b[1;34m\u001b[0m\n\u001b[0;32m      2\u001b[0m \u001b[1;31m# Note: Tuple is immutable\u001b[0m\u001b[1;33m\u001b[0m\u001b[1;33m\u001b[0m\u001b[0m\n\u001b[0;32m      3\u001b[0m \u001b[1;33m\u001b[0m\u001b[0m\n\u001b[1;32m----> 4\u001b[1;33m \u001b[0mstates_tuple\u001b[0m\u001b[1;33m[\u001b[0m\u001b[1;36m0\u001b[0m\u001b[1;33m]\u001b[0m \u001b[1;33m=\u001b[0m \u001b[1;34m\"VA\"\u001b[0m\u001b[1;33m\u001b[0m\u001b[1;33m\u001b[0m\u001b[0m\n\u001b[0m",
      "\u001b[1;31mTypeError\u001b[0m: 'tuple' object does not support item assignment"
     ]
    }
   ],
   "source": [
    "#2 Try to modify the first element of states_tuple from Virginia to VA \n",
    "# Note: Tuple is immutable\n",
    "\n",
    "states_tuple[0] = \"VA\""
   ]
  },
  {
   "cell_type": "code",
   "execution_count": 51,
   "id": "9ce2454a",
   "metadata": {},
   "outputs": [
    {
     "name": "stdout",
     "output_type": "stream",
     "text": [
      "{'Virginia': 1.5312, 'Maryland': 0.953, 'DC': 0.13}\n"
     ]
    }
   ],
   "source": [
    "#3 Modify the states_dictionary value to 1.5312 for Virginia\n",
    "# Note: Do not redefine the variable. Update the variable.\n",
    "# Note: Dictionary keys are immutable while values are mutable.\n",
    "\n",
    "states_dictionary[\"Virginia\"] = 1.5312\n",
    "print(states_dictionary)\n"
   ]
  },
  {
   "cell_type": "markdown",
   "id": "65fc013f",
   "metadata": {},
   "source": [
    "# Other Variable Definitions"
   ]
  },
  {
   "cell_type": "code",
   "execution_count": null,
   "id": "846ee952",
   "metadata": {},
   "outputs": [],
   "source": [
    "#1 A list variable, market_cap_ex1, containing two float variables  \n",
    "\n",
    "AAPLE = 2.779 # the float values represents market cap in trillions ($) \n",
    "MSFT = 2.310\n",
    "market_cap_ex1 = [AAPLE, MSFT]\n",
    "\n",
    "print(---)"
   ]
  },
  {
   "cell_type": "code",
   "execution_count": null,
   "id": "f64fb22a",
   "metadata": {},
   "outputs": [],
   "source": [
    "#2 A list variable, market_cap_ex2, containing two list variables.\n",
    "\n",
    "apple = [\"AAPLE\", 2.779]\n",
    "microsoft = [\"MSFT\", 2.310]\n",
    "market_cap_ex2 = [apple, microsoft]\n",
    "\n",
    "print(---)"
   ]
  },
  {
   "cell_type": "code",
   "execution_count": null,
   "id": "8ab0d416",
   "metadata": {},
   "outputs": [],
   "source": [
    "#3 A list variable, market_cap_ex3, containing one element: a dictionary with the two key-value pairs below \n",
    "\n",
    "market_cap_ex3 = [{\"AAPLE\" :  2.779, \"MSFT\" : 2.310}]\n",
    "\n",
    "print(---)"
   ]
  },
  {
   "cell_type": "code",
   "execution_count": null,
   "id": "471d8c89",
   "metadata": {},
   "outputs": [],
   "source": [
    "#4 A dictionary variable, market_cap_ex4, where the company stock symbol represents\n",
    "# the key and the numerical value is its market cap.\n",
    "\n",
    "market_cap_ex4 = {\"AAPLE\" :  2.779, \"MSFT\" : 2.310}\n",
    "\n",
    "print(---)"
   ]
  },
  {
   "cell_type": "code",
   "execution_count": null,
   "id": "e2fda8ea",
   "metadata": {},
   "outputs": [],
   "source": [
    "#5 Assigning multiple values to multiple variables x, y, z to 100, 200, 300, respectively\n",
    "\n",
    "x, y, z  = 100, 200, 300\n"
   ]
  },
  {
   "cell_type": "markdown",
   "id": "c1a6b9d9",
   "metadata": {},
   "source": [
    "# Type Conversions"
   ]
  },
  {
   "cell_type": "markdown",
   "id": "3e5576b8",
   "metadata": {},
   "source": [
    "# Methods"
   ]
  }
 ],
 "metadata": {
  "kernelspec": {
   "display_name": "Python 3 (ipykernel)",
   "language": "python",
   "name": "python3"
  },
  "language_info": {
   "codemirror_mode": {
    "name": "ipython",
    "version": 3
   },
   "file_extension": ".py",
   "mimetype": "text/x-python",
   "name": "python",
   "nbconvert_exporter": "python",
   "pygments_lexer": "ipython3",
   "version": "3.9.13"
  }
 },
 "nbformat": 4,
 "nbformat_minor": 5
}
