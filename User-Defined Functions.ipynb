{
 "cells": [
  {
   "cell_type": "markdown",
   "id": "f6d7b042",
   "metadata": {},
   "source": [
    "### Sum of Two Numbers Function\n",
    "\n",
    "1. Define a function named `sum_of_numbers` that takes two parameters: `num1` and `num2`.\n",
    "\n",
    "2. Inside the function:\n",
    "   - Add `num1` and `num2` to calculate the sum.\n",
    "   - Return the sum as the result of the function.\n",
    "\n",
    "4. Call the `sum_of_numbers` function with two numbers as arguments.\n"
   ]
  },
  {
   "cell_type": "code",
   "execution_count": 5,
   "id": "4828413f",
   "metadata": {},
   "outputs": [
    {
     "data": {
      "text/plain": [
       "300"
      ]
     },
     "execution_count": 5,
     "metadata": {},
     "output_type": "execute_result"
    }
   ],
   "source": [
    "# 1\n",
    "\n",
    "def sum_of_numbers(num1, num2):\n",
    "    total = num1+ num2\n",
    "    return total\n",
    "\n",
    "sum_of_numbers(100, 200)    \n",
    "    "
   ]
  },
  {
   "cell_type": "markdown",
   "id": "6de0d81a",
   "metadata": {},
   "source": [
    "### Personalized Greeting Function\n",
    "\n",
    "1. Define a function named `personalized_greeting` that takes no arguments.\n",
    "\n",
    "2. Inside the function:\n",
    "   - Prompt the user to enter their name.\n",
    "   - Read and store the user's input in a variable named `user_name`.\n",
    "   - Display a greeting message, e.g., \"Welcome, [user_name]!\".\n",
    "   \n",
    "3. Call the `personalized_greeting` function.\n",
    "\n"
   ]
  },
  {
   "cell_type": "code",
   "execution_count": 24,
   "id": "bf54be59",
   "metadata": {},
   "outputs": [
    {
     "name": "stdout",
     "output_type": "stream",
     "text": [
      "Enter your name: Herry\n",
      "Welcome, Herry\n"
     ]
    }
   ],
   "source": [
    "# 2\n",
    "\n",
    "def personalized_greeting():\n",
    "    user_name = input(\"Enter your name: \")\n",
    "    print(\"Welcome,\",user_name)\n",
    "personalized_greeting()\n",
    "    "
   ]
  },
  {
   "cell_type": "markdown",
   "id": "c80e7211",
   "metadata": {},
   "source": [
    "### Calculate Average Exam Grade Function\n",
    "\n",
    "1. Define a function named `calculate_average_grade` that has no parameters.\n",
    "\n",
    "2. Inside the function:\n",
    "   - Prompt the user to enter the first exam grade and store it in a variable named `exam1`.\n",
    "   - Prompt the user to enter the second exam grade and store it in a variable named `exam2`.\n",
    "   - Calculate the average exam grade by adding `exam1` and `exam2`, then dividing by 2.\n",
    "   - Round the average exam grade to two decimal places using the `round` function.\n",
    "   - Return the rounded average exam grade as the result of the function.\n",
    "\n",
    "3. Call the `calculate_average_grade` function.\n"
   ]
  },
  {
   "cell_type": "code",
   "execution_count": 33,
   "id": "4b5d766a",
   "metadata": {},
   "outputs": [
    {
     "name": "stdout",
     "output_type": "stream",
     "text": [
      "Please enter your exam 1 grade here: 100\n",
      "Please enter your exam 2 grade here: 50\n"
     ]
    },
    {
     "data": {
      "text/plain": [
       "75.0"
      ]
     },
     "execution_count": 33,
     "metadata": {},
     "output_type": "execute_result"
    }
   ],
   "source": [
    "# 3\n",
    "\n",
    "def calculate_average_grade():\n",
    "    exam_1 = float(input(\"Please enter your exam 1 grade here: \"))\n",
    "    exam_2 = float(input(\"Please enter your exam 2 grade here: \"))\n",
    "    average_exam_grade = (exam_1 + exam_2) / 2\n",
    "    rounded_average = round(average_exam_grade, 2)\n",
    "    return rounded_average\n",
    "\n",
    "calculate_average_grade()\n",
    "    \n",
    "    "
   ]
  },
  {
   "cell_type": "markdown",
   "id": "a0a9d2cb",
   "metadata": {},
   "source": [
    "### Convert Strings to Lowercase Function\n",
    "\n",
    "1. Define a function named `convert_to_lowercase` that takes one argument, `string_list` (a list).\n",
    "2. Inside the function:\n",
    "   - Create an empty list named `lowercase_list` to store the lowercase strings.\n",
    "   - Iterate through each `item` in `string_list` using a for loop:\n",
    "     - Check if `item` is a string:\n",
    "       - If true, convert `item` to lowercase.\n",
    "       - Append the lowercase `item` to `lowercase_list`.\n",
    "       - If false, leave `item` unchanged.\n",
    "   - Return `lowercase_list` as the result of the function.\n",
    "\n",
    "3. Define a list named `original_list` with the elements `[\"UNIteD sTATES\", \"InDIA\", \"BRaZIL\", \"rUSsIA\", \"PERU\"]`.\n",
    "4. Call the `convert_to_lowercase` function with `original_list` as an argument and store the result in a variable named `lowercase_result`.\n",
    "5. Print `lowercase_result`.\n"
   ]
  },
  {
   "cell_type": "code",
   "execution_count": 1,
   "id": "9dde8ca0",
   "metadata": {},
   "outputs": [
    {
     "name": "stdout",
     "output_type": "stream",
     "text": [
      "['united states', 'india', 'brazil', 'russia', 'peru']\n"
     ]
    }
   ],
   "source": [
    "def convert_to_lowercase(string_list):\n",
    "    lowercase_list = []  # Create an empty list to store lowercase strings\n",
    "    \n",
    "    for item in string_list:  # Iterate through each item in the input list\n",
    "        if isinstance(item, str):  # Check if the item is a string\n",
    "            lowercase_item = item.lower()  # Convert the string to lowercase\n",
    "            lowercase_list.append(lowercase_item)  # Append the lowercase item to the list\n",
    "        else:\n",
    "            lowercase_list.append(item)  # If not a string, leave it unchanged\n",
    "    \n",
    "    return lowercase_list  # Return the list of lowercase strings\n",
    "\n",
    "original_list = [\"UNIteD sTATES\", \"InDIA\", \"BRaZIL\", \"rUSsIA\", \"PERU\"]\n",
    "lowercase_result = convert_to_lowercase(original_list)\n",
    "print(lowercase_result)\n"
   ]
  },
  {
   "cell_type": "markdown",
   "id": "7b5790e3",
   "metadata": {},
   "source": [
    "### Append each grade value to the appropriate list based on the following conditions and display the result.\n",
    "\n",
    "1. Define a list named `grades` with values `[90, 80, 85, 70]`.\n",
    "2. Define an empty list `a`.\n",
    "3. Define an empty list `b`.\n",
    "4. Define an empty list `c`.\n",
    "\n",
    "5. For each `value` in `grades`:\n",
    "    - If `value` is greater than or equal to 90:\n",
    "        - Append `value` to list `a`.\n",
    "    - Else, if `value` is greater than or equal to 80:\n",
    "        - Append `value` to list `b`.\n",
    "    - Else:\n",
    "        - Append `value` to list `c`.\n",
    "\n",
    "6. Print \"'A' grades:\", contents of list `a`.\n",
    "7. Print \"'B' grades:\", contents of list `b`.\n",
    "8. Print \"'C' grades:\", contents of list `c`.\n",
    "\n"
   ]
  },
  {
   "cell_type": "code",
   "execution_count": 15,
   "id": "e0fc842c",
   "metadata": {},
   "outputs": [
    {
     "name": "stdout",
     "output_type": "stream",
     "text": [
      "'A' grades: [90]\n",
      "'B' grades: [80, 85]\n",
      "'C' grades: [70]\n"
     ]
    }
   ],
   "source": [
    "# 5 complete code without a user-defined function\n",
    "\n",
    "grades = [90, 80, 85, 70]\n",
    "a = []\n",
    "b = []\n",
    "c = []\n",
    "\n",
    "for value in grades:\n",
    "    if value >= 90:\n",
    "        a.append(value)\n",
    "    elif value >= 80:\n",
    "        b.append(value)\n",
    "    else:\n",
    "        c.append(value)\n",
    "print(\"'A' grades:\", a)\n",
    "print(\"'B' grades:\", b)    \n",
    "print(\"'C' grades:\", c)    \n"
   ]
  },
  {
   "cell_type": "code",
   "execution_count": 18,
   "id": "b729d0be",
   "metadata": {},
   "outputs": [],
   "source": [
    "# complete code with a user-defined function:\n",
    "\n",
    "def categorize(x):\n",
    "    for value in grades:\n",
    "        if value >= 90:\n",
    "            a.append(value)\n",
    "        elif value >= 80:\n",
    "            b.append(value)\n",
    "        else:\n",
    "            c.append(value)\n",
    "        \n",
    "    print(\"'A' grades:\", a)\n",
    "    print(\"'B' grades:\", b)    \n",
    "    print(\"'C' grades:\", c)    "
   ]
  },
  {
   "cell_type": "code",
   "execution_count": 20,
   "id": "648b1413",
   "metadata": {},
   "outputs": [
    {
     "name": "stdout",
     "output_type": "stream",
     "text": [
      "'A' grades: [90, 90, 90, 90]\n",
      "'B' grades: [80, 85, 80, 85, 80, 85, 80, 85]\n",
      "'C' grades: [70, 70, 70, 70]\n"
     ]
    }
   ],
   "source": [
    "grades = [90, 80, 85, 70]\n",
    "\n",
    "categorize(grades)"
   ]
  },
  {
   "cell_type": "raw",
   "id": "46a51cd3",
   "metadata": {},
   "source": []
  },
  {
   "cell_type": "markdown",
   "id": "e5f5a402",
   "metadata": {},
   "source": [
    "### Convert a Fahrenheit value to Celsius (From °F to °C) and display the converted value.\n",
    "\n",
    "\n",
    "1. Define a variable representing Celsius, name it `c`, and assign `c` a numerical value of 0.0.\n",
    "\n",
    "2. Define a variable representing Fahrenheit, name it `f`, and assign `f` a numerical value of 50.9.\n",
    "\n",
    "3. Use the formula `c = (f - 32) * (5 / 9)` to convert Fahrenheit (`f`) to Celsius (`c`).\n",
    "\n",
    "4. Display the temperature in Celsius.\n"
   ]
  },
  {
   "cell_type": "code",
   "execution_count": 21,
   "id": "b9ee834c",
   "metadata": {},
   "outputs": [
    {
     "name": "stdout",
     "output_type": "stream",
     "text": [
      "10.5° Celcius\n"
     ]
    }
   ],
   "source": [
    "# 6 code without a user-defined function\n",
    "c = 0.0\n",
    "f = 50.9\n",
    "c = (f-32) * (5/9)\n",
    "print(str(c) + \"° Celcius\")"
   ]
  },
  {
   "cell_type": "code",
   "execution_count": 26,
   "id": "cc04dff0",
   "metadata": {},
   "outputs": [
    {
     "name": "stdout",
     "output_type": "stream",
     "text": [
      "10.5° Celcius\n"
     ]
    }
   ],
   "source": [
    "# complete code with a user-defined function:\n",
    "\n",
    "def convert(f):\n",
    "    c = 0.0\n",
    "#    f = 0.0\n",
    "    c = (f-32) * (5/9)\n",
    "    print(str(c) + \"° Celcius\")\n",
    "    \n",
    "convert(50.9)"
   ]
  },
  {
   "cell_type": "markdown",
   "id": "ae2a0cd3",
   "metadata": {},
   "source": [
    "### Separating Data into `Countries` and `Populations`\n",
    "\n",
    "1. Create an empty list named `countries`.\n",
    "2. Create an empty list named `populations`.\n",
    "\n",
    "3. For each element `x` in the `list_data`:\n",
    "    - Check if `x` is an integer:\n",
    "        - If true, append `x` to the `countries` list.\n",
    "        - If false, append `x` to the `populations` list.\n",
    "\n",
    "4. Print the `countries` list.\n",
    "5. Print the `populations` list.\n"
   ]
  },
  {
   "cell_type": "code",
   "execution_count": 41,
   "id": "ae96b9b4",
   "metadata": {},
   "outputs": [],
   "source": [
    "list_data = [\n",
    "    \"USA\", 331002651,\n",
    "    \"China\", 1444216107,\n",
    "    \"India\", 1380004385,\n",
    "    \"Indonesia\", 273523615,\n",
    "    \"Pakistan\", 220892340,\n",
    "    \"Brazil\", 212559417,\n",
    "    \"Nigeria\", 206139589,\n",
    "    \"Bangladesh\", 164689383,\n",
    "    \"Russia\", 145934462,\n",
    "    \"Mexico\", 128932753,\n",
    "    \"Japan\", 126476461,\n",
    "    \"Ethiopia\", 114963588,\n",
    "    \"Philippines\", 109581078,\n",
    "    \"Egypt\", 102334404,\n",
    "    \"Vietnam\", 97338579,\n",
    "    \"DR Congo\", 89561403,\n",
    "    \"Turkey\", 84339067,\n",
    "    \"Iran\", 83992949,\n",
    "    \"Germany\", 83783942,\n",
    "    \"Thailand\", 69799978\n",
    "]"
   ]
  },
  {
   "cell_type": "code",
   "execution_count": 43,
   "id": "dff201f2",
   "metadata": {},
   "outputs": [
    {
     "name": "stdout",
     "output_type": "stream",
     "text": [
      "['USA', 'China', 'India', 'Indonesia', 'Pakistan', 'Brazil', 'Nigeria', 'Bangladesh', 'Russia', 'Mexico', 'Japan', 'Ethiopia', 'Philippines', 'Egypt', 'Vietnam', 'DR Congo', 'Turkey', 'Iran', 'Germany', 'Thailand']\n",
      "[331002651, 1444216107, 1380004385, 273523615, 220892340, 212559417, 206139589, 164689383, 145934462, 128932753, 126476461, 114963588, 109581078, 102334404, 97338579, 89561403, 84339067, 83992949, 83783942, 69799978]\n"
     ]
    }
   ],
   "source": [
    "countries =[]\n",
    "populations = []\n",
    "\n",
    "for x in list_data:\n",
    "    if isinstance(x, (int, float)):\n",
    "        populations.append(x)\n",
    "    else:\n",
    "        countries.append(x)\n",
    "        \n",
    "print(countries)\n",
    "print(populations)"
   ]
  },
  {
   "cell_type": "code",
   "execution_count": 30,
   "id": "484fb0f0",
   "metadata": {},
   "outputs": [
    {
     "data": {
      "text/plain": [
       "True"
      ]
     },
     "execution_count": 30,
     "metadata": {},
     "output_type": "execute_result"
    }
   ],
   "source": [
    "isinstance(100.00, (int,float))"
   ]
  }
 ],
 "metadata": {
  "kernelspec": {
   "display_name": "Python 3 (ipykernel)",
   "language": "python",
   "name": "python3"
  },
  "language_info": {
   "codemirror_mode": {
    "name": "ipython",
    "version": 3
   },
   "file_extension": ".py",
   "mimetype": "text/x-python",
   "name": "python",
   "nbconvert_exporter": "python",
   "pygments_lexer": "ipython3",
   "version": "3.9.13"
  }
 },
 "nbformat": 4,
 "nbformat_minor": 5
}
